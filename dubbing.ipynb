{
  "nbformat": 4,
  "nbformat_minor": 0,
  "metadata": {
    "colab": {
      "provenance": [],
      "collapsed_sections": [
        "0_uGYFM1tWwR"
      ],
      "mount_file_id": "1CE9pX6D2CR24XcmXaKhrmkKnUYVUIhkS",
      "authorship_tag": "ABX9TyO0Ns81ZXU/4Mi6czXv97LN",
      "include_colab_link": true
    },
    "kernelspec": {
      "name": "python3",
      "display_name": "Python 3"
    },
    "language_info": {
      "name": "python"
    }
  },
  "cells": [
    {
      "cell_type": "markdown",
      "metadata": {
        "id": "view-in-github",
        "colab_type": "text"
      },
      "source": [
        "<a href=\"https://colab.research.google.com/github/mostafa-ja/Video_Dubber/blob/main/dubbing.ipynb\" target=\"_parent\"><img src=\"https://colab.research.google.com/assets/colab-badge.svg\" alt=\"Open In Colab\"/></a>"
      ]
    },
    {
      "cell_type": "code",
      "source": [
        "!pip install ffmpeg pysrt yt-dlp\n"
      ],
      "metadata": {
        "colab": {
          "base_uri": "https://localhost:8080/"
        },
        "id": "F-NEJWg0QLPj",
        "outputId": "b0801fa1-868f-4f97-b661-6ae060aee93c"
      },
      "execution_count": 1,
      "outputs": [
        {
          "output_type": "stream",
          "name": "stdout",
          "text": [
            "Collecting ffmpeg\n",
            "  Downloading ffmpeg-1.4.tar.gz (5.1 kB)\n",
            "  Preparing metadata (setup.py) ... \u001b[?25l\u001b[?25hdone\n",
            "Collecting pysrt\n",
            "  Downloading pysrt-1.1.2.tar.gz (104 kB)\n",
            "\u001b[2K     \u001b[90m━━━━━━━━━━━━━━━━━━━━━━━━━━━━━━━━━━━━━━━\u001b[0m \u001b[32m104.4/104.4 kB\u001b[0m \u001b[31m2.6 MB/s\u001b[0m eta \u001b[36m0:00:00\u001b[0m\n",
            "\u001b[?25h  Preparing metadata (setup.py) ... \u001b[?25l\u001b[?25hdone\n",
            "Collecting yt-dlp\n",
            "  Downloading yt_dlp-2025.6.9-py3-none-any.whl.metadata (174 kB)\n",
            "\u001b[2K     \u001b[90m━━━━━━━━━━━━━━━━━━━━━━━━━━━━━━━━━━━━━━━\u001b[0m \u001b[32m174.3/174.3 kB\u001b[0m \u001b[31m7.2 MB/s\u001b[0m eta \u001b[36m0:00:00\u001b[0m\n",
            "\u001b[?25hRequirement already satisfied: chardet in /usr/local/lib/python3.11/dist-packages (from pysrt) (5.2.0)\n",
            "Downloading yt_dlp-2025.6.9-py3-none-any.whl (3.3 MB)\n",
            "\u001b[2K   \u001b[90m━━━━━━━━━━━━━━━━━━━━━━━━━━━━━━━━━━━━━━━━\u001b[0m \u001b[32m3.3/3.3 MB\u001b[0m \u001b[31m50.9 MB/s\u001b[0m eta \u001b[36m0:00:00\u001b[0m\n",
            "\u001b[?25hBuilding wheels for collected packages: ffmpeg, pysrt\n",
            "  Building wheel for ffmpeg (setup.py) ... \u001b[?25l\u001b[?25hdone\n",
            "  Created wheel for ffmpeg: filename=ffmpeg-1.4-py3-none-any.whl size=6083 sha256=db7a1e57b286a3f6c365be8b996f71da8ac766e6baa10457c2f6203191b31f6d\n",
            "  Stored in directory: /root/.cache/pip/wheels/56/30/c5/576bdd729f3bc062d62a551be7fefd6ed2f761901568171e4e\n",
            "  Building wheel for pysrt (setup.py) ... \u001b[?25l\u001b[?25hdone\n",
            "  Created wheel for pysrt: filename=pysrt-1.1.2-py3-none-any.whl size=13443 sha256=00714c06e0cc9f944a5ea7ff9c103716bd081d85e34dea2e42dd446bf1581472\n",
            "  Stored in directory: /root/.cache/pip/wheels/2d/b2/df/ea10959920533975b4a74a25a35e6d79655b63f3006611a99f\n",
            "Successfully built ffmpeg pysrt\n",
            "Installing collected packages: ffmpeg, yt-dlp, pysrt\n",
            "Successfully installed ffmpeg-1.4 pysrt-1.1.2 yt-dlp-2025.6.9\n"
          ]
        }
      ]
    },
    {
      "cell_type": "markdown",
      "source": [
        "# Combine original and dubbed audio"
      ],
      "metadata": {
        "id": "muO0KsnypA4i"
      }
    },
    {
      "cell_type": "markdown",
      "source": [
        "## # upload dubbed audio"
      ],
      "metadata": {
        "id": "tTTMJeRJpUuQ"
      }
    },
    {
      "cell_type": "code",
      "source": [
        "import shutil\n",
        "\n",
        "# dubbed audio\n",
        "source_path = \"/content/drive/MyDrive/dub/combined_audio.wav\"\n",
        "destination_path = \"/content/combined_audio.wav\"\n",
        "shutil.copy(source_path, destination_path)\n",
        "\n",
        "# translated srt\n",
        "source_path = \"/content/drive/MyDrive/dub/merged_Azerbaijan4_translated.srt\"\n",
        "destination_path = \"/content/translated.srt\"\n",
        "shutil.copy(source_path, destination_path)\n",
        "\n",
        "\n",
        "print(\"✅ Files copied from Google Drive.\")"
      ],
      "metadata": {
        "colab": {
          "base_uri": "https://localhost:8080/"
        },
        "id": "YvoS1Q2OQzO2",
        "outputId": "1cb63ccf-a130-4732-dae8-95d14a5630ce"
      },
      "execution_count": 10,
      "outputs": [
        {
          "output_type": "stream",
          "name": "stdout",
          "text": [
            "✅ Files copied from Google Drive.\n"
          ]
        }
      ]
    },
    {
      "cell_type": "markdown",
      "source": [
        "## extract original audio"
      ],
      "metadata": {
        "id": "EkI4meB3pWpx"
      }
    },
    {
      "cell_type": "code",
      "source": [
        "import yt_dlp\n",
        "import os\n",
        "\n",
        "youtube_url = \"https://www.youtube.com/watch?v=sG0JM9lChPk\"\n",
        "output_path=\"audio\"\n",
        "\n",
        "ydl_opts = {\n",
        "    'format': 'bestaudio/best',\n",
        "    'outtmpl': output_path,\n",
        "    'postprocessors': [{\n",
        "        'key': 'FFmpegExtractAudio',\n",
        "        'preferredcodec': 'wav',\n",
        "    }],\n",
        "    'quiet': False\n",
        "}\n",
        "\n",
        "with yt_dlp.YoutubeDL(ydl_opts) as ydl:\n",
        "    ydl.download([youtube_url])"
      ],
      "metadata": {
        "colab": {
          "base_uri": "https://localhost:8080/"
        },
        "id": "Y6cgwg1_QixP",
        "outputId": "63a03350-9392-4b5a-9f28-54929d943b7d"
      },
      "execution_count": 11,
      "outputs": [
        {
          "output_type": "stream",
          "name": "stdout",
          "text": [
            "[youtube] Extracting URL: https://www.youtube.com/watch?v=sG0JM9lChPk\n",
            "[youtube] sG0JM9lChPk: Downloading webpage\n",
            "[youtube] sG0JM9lChPk: Downloading tv client config\n",
            "[youtube] sG0JM9lChPk: Downloading tv player API JSON\n",
            "[youtube] sG0JM9lChPk: Downloading ios player API JSON\n",
            "[youtube] sG0JM9lChPk: Downloading m3u8 information\n",
            "[info] sG0JM9lChPk: Downloading 1 format(s): 251\n",
            "[download] Destination: audio\n",
            "[download] 100% of   39.89MiB in 00:00:01 at 39.56MiB/s  \n",
            "[ExtractAudio] Destination: audio.wav\n",
            "Deleting original file audio (pass -k to keep)\n"
          ]
        }
      ]
    },
    {
      "cell_type": "markdown",
      "source": [
        "## mix audios"
      ],
      "metadata": {
        "id": "fbRyQTWepa5Y"
      }
    },
    {
      "cell_type": "markdown",
      "source": [
        "## mixing based on silence times"
      ],
      "metadata": {
        "id": "0_uGYFM1tWwR"
      }
    },
    {
      "cell_type": "code",
      "execution_count": 4,
      "metadata": {
        "colab": {
          "base_uri": "https://localhost:8080/",
          "height": 356
        },
        "id": "HushH5pvPQ9x",
        "outputId": "4f55e947-b3e6-4a84-f2a9-8bd605c0eee4"
      },
      "outputs": [
        {
          "output_type": "error",
          "ename": "KeyboardInterrupt",
          "evalue": "",
          "traceback": [
            "\u001b[0;31m---------------------------------------------------------------------------\u001b[0m",
            "\u001b[0;31mKeyboardInterrupt\u001b[0m                         Traceback (most recent call last)",
            "\u001b[0;32m<ipython-input-4-3977796661>\u001b[0m in \u001b[0;36m<cell line: 0>\u001b[0;34m()\u001b[0m\n\u001b[1;32m     12\u001b[0m \u001b[0;34m\u001b[0m\u001b[0m\n\u001b[1;32m     13\u001b[0m \u001b[0;31m# === Detect non-silent parts of speech ===\u001b[0m\u001b[0;34m\u001b[0m\u001b[0;34m\u001b[0m\u001b[0m\n\u001b[0;32m---> 14\u001b[0;31m nonsilent_ranges = silence.detect_nonsilent(\n\u001b[0m\u001b[1;32m     15\u001b[0m     \u001b[0mspeech\u001b[0m\u001b[0;34m,\u001b[0m\u001b[0;34m\u001b[0m\u001b[0;34m\u001b[0m\u001b[0m\n\u001b[1;32m     16\u001b[0m     \u001b[0mmin_silence_len\u001b[0m\u001b[0;34m=\u001b[0m\u001b[0;36m200\u001b[0m\u001b[0;34m,\u001b[0m\u001b[0;34m\u001b[0m\u001b[0;34m\u001b[0m\u001b[0m\n",
            "\u001b[0;32m/usr/local/lib/python3.11/dist-packages/pydub/silence.py\u001b[0m in \u001b[0;36mdetect_nonsilent\u001b[0;34m(audio_segment, min_silence_len, silence_thresh, seek_step)\u001b[0m\n\u001b[1;32m     84\u001b[0m     \u001b[0mseek_step\u001b[0m \u001b[0;34m-\u001b[0m \u001b[0mstep\u001b[0m \u001b[0msize\u001b[0m \u001b[0;32mfor\u001b[0m \u001b[0minterating\u001b[0m \u001b[0mover\u001b[0m \u001b[0mthe\u001b[0m \u001b[0msegment\u001b[0m \u001b[0;32min\u001b[0m \u001b[0mms\u001b[0m\u001b[0;34m\u001b[0m\u001b[0;34m\u001b[0m\u001b[0m\n\u001b[1;32m     85\u001b[0m     \"\"\"\n\u001b[0;32m---> 86\u001b[0;31m     \u001b[0msilent_ranges\u001b[0m \u001b[0;34m=\u001b[0m \u001b[0mdetect_silence\u001b[0m\u001b[0;34m(\u001b[0m\u001b[0maudio_segment\u001b[0m\u001b[0;34m,\u001b[0m \u001b[0mmin_silence_len\u001b[0m\u001b[0;34m,\u001b[0m \u001b[0msilence_thresh\u001b[0m\u001b[0;34m,\u001b[0m \u001b[0mseek_step\u001b[0m\u001b[0;34m)\u001b[0m\u001b[0;34m\u001b[0m\u001b[0;34m\u001b[0m\u001b[0m\n\u001b[0m\u001b[1;32m     87\u001b[0m     \u001b[0mlen_seg\u001b[0m \u001b[0;34m=\u001b[0m \u001b[0mlen\u001b[0m\u001b[0;34m(\u001b[0m\u001b[0maudio_segment\u001b[0m\u001b[0;34m)\u001b[0m\u001b[0;34m\u001b[0m\u001b[0;34m\u001b[0m\u001b[0m\n\u001b[1;32m     88\u001b[0m \u001b[0;34m\u001b[0m\u001b[0m\n",
            "\u001b[0;32m/usr/local/lib/python3.11/dist-packages/pydub/silence.py\u001b[0m in \u001b[0;36mdetect_silence\u001b[0;34m(audio_segment, min_silence_len, silence_thresh, seek_step)\u001b[0m\n\u001b[1;32m     41\u001b[0m     \u001b[0;32mfor\u001b[0m \u001b[0mi\u001b[0m \u001b[0;32min\u001b[0m \u001b[0mslice_starts\u001b[0m\u001b[0;34m:\u001b[0m\u001b[0;34m\u001b[0m\u001b[0;34m\u001b[0m\u001b[0m\n\u001b[1;32m     42\u001b[0m         \u001b[0maudio_slice\u001b[0m \u001b[0;34m=\u001b[0m \u001b[0maudio_segment\u001b[0m\u001b[0;34m[\u001b[0m\u001b[0mi\u001b[0m\u001b[0;34m:\u001b[0m\u001b[0mi\u001b[0m \u001b[0;34m+\u001b[0m \u001b[0mmin_silence_len\u001b[0m\u001b[0;34m]\u001b[0m\u001b[0;34m\u001b[0m\u001b[0;34m\u001b[0m\u001b[0m\n\u001b[0;32m---> 43\u001b[0;31m         \u001b[0;32mif\u001b[0m \u001b[0maudio_slice\u001b[0m\u001b[0;34m.\u001b[0m\u001b[0mrms\u001b[0m \u001b[0;34m<=\u001b[0m \u001b[0msilence_thresh\u001b[0m\u001b[0;34m:\u001b[0m\u001b[0;34m\u001b[0m\u001b[0;34m\u001b[0m\u001b[0m\n\u001b[0m\u001b[1;32m     44\u001b[0m             \u001b[0msilence_starts\u001b[0m\u001b[0;34m.\u001b[0m\u001b[0mappend\u001b[0m\u001b[0;34m(\u001b[0m\u001b[0mi\u001b[0m\u001b[0;34m)\u001b[0m\u001b[0;34m\u001b[0m\u001b[0;34m\u001b[0m\u001b[0m\n\u001b[1;32m     45\u001b[0m \u001b[0;34m\u001b[0m\u001b[0m\n",
            "\u001b[0;32m/usr/local/lib/python3.11/dist-packages/pydub/audio_segment.py\u001b[0m in \u001b[0;36mrms\u001b[0;34m(self)\u001b[0m\n\u001b[1;32m   1084\u001b[0m     \u001b[0;34m@\u001b[0m\u001b[0mproperty\u001b[0m\u001b[0;34m\u001b[0m\u001b[0;34m\u001b[0m\u001b[0m\n\u001b[1;32m   1085\u001b[0m     \u001b[0;32mdef\u001b[0m \u001b[0mrms\u001b[0m\u001b[0;34m(\u001b[0m\u001b[0mself\u001b[0m\u001b[0;34m)\u001b[0m\u001b[0;34m:\u001b[0m\u001b[0;34m\u001b[0m\u001b[0;34m\u001b[0m\u001b[0m\n\u001b[0;32m-> 1086\u001b[0;31m         \u001b[0;32mreturn\u001b[0m \u001b[0maudioop\u001b[0m\u001b[0;34m.\u001b[0m\u001b[0mrms\u001b[0m\u001b[0;34m(\u001b[0m\u001b[0mself\u001b[0m\u001b[0;34m.\u001b[0m\u001b[0m_data\u001b[0m\u001b[0;34m,\u001b[0m \u001b[0mself\u001b[0m\u001b[0;34m.\u001b[0m\u001b[0msample_width\u001b[0m\u001b[0;34m)\u001b[0m\u001b[0;34m\u001b[0m\u001b[0;34m\u001b[0m\u001b[0m\n\u001b[0m\u001b[1;32m   1087\u001b[0m \u001b[0;34m\u001b[0m\u001b[0m\n\u001b[1;32m   1088\u001b[0m     \u001b[0;34m@\u001b[0m\u001b[0mproperty\u001b[0m\u001b[0;34m\u001b[0m\u001b[0;34m\u001b[0m\u001b[0m\n",
            "\u001b[0;31mKeyboardInterrupt\u001b[0m: "
          ]
        }
      ],
      "source": [
        "from pydub import AudioSegment, silence\n",
        "import os\n",
        "\n",
        "# === Load audio files ===\n",
        "speech = AudioSegment.from_wav(\"combined_audio.wav\")\n",
        "bg = AudioSegment.from_file(\"audio.wav\")  # Works for .mp3, .wav, etc.\n",
        "\n",
        "# === Ensure background is long enough ===\n",
        "if len(bg) < len(speech):\n",
        "    bg *= ((len(speech) // len(bg)) + 1)\n",
        "#bg = bg[:len(speech)]\n",
        "\n",
        "# === Detect non-silent parts of speech ===\n",
        "nonsilent_ranges = silence.detect_nonsilent(\n",
        "    speech,\n",
        "    min_silence_len=200,\n",
        "    silence_thresh=speech.dBFS - 16\n",
        ")\n",
        "\n",
        "# === Volume settings ===\n",
        "speech_gain = 5\n",
        "bg_quiet_gain = -20  # Lower volume during speech\n",
        "fade_duration = 1000  # in ms, for fade in/out\n",
        "\n",
        "# === Start with background as base ===\n",
        "output = bg\n",
        "\n",
        "# === Process each speech segment ===\n",
        "for start, end in nonsilent_ranges:\n",
        "    # Apply fades to background and mix with speech\n",
        "    speech_chunk = speech[start:end] + speech_gain\n",
        "    bg_chunk = bg[start:end] + bg_quiet_gain\n",
        "\n",
        "    # Add fade-in and fade-out for smoother transitions\n",
        "    #speech_chunk = speech_chunk.fade_in(fade_duration).fade_out(fade_duration)\n",
        "    bg_chunk = bg_chunk.fade_in(fade_duration).fade_out(fade_duration)\n",
        "\n",
        "    mixed = bg_chunk.overlay(speech_chunk)\n",
        "\n",
        "    # Replace that portion in output\n",
        "    output = output[:start] + mixed + output[end:]\n",
        "\n",
        "# === Export as WAV ===\n",
        "output.export(\"final_mixed_audio.wav\", format=\"wav\")\n",
        "print(\"✅ Saved as 'final_mixed_audio.wav'\")\n",
        "\n",
        "# === Export as MP3 (compressed) ===\n",
        "output.export(\"final_mixed_audio.mp3\", format=\"mp3\", bitrate=\"192k\")\n",
        "print(\"🎧 Saved as 'final_mixed_audio.mp3'\")\n"
      ]
    },
    {
      "cell_type": "markdown",
      "source": [
        "## ## mixing based on subtitle times"
      ],
      "metadata": {
        "id": "Icz5tEcMtbyn"
      }
    },
    {
      "cell_type": "code",
      "execution_count": 13,
      "metadata": {
        "colab": {
          "base_uri": "https://localhost:8080/"
        },
        "outputId": "cbb4d8a0-f5f8-4561-c85b-4d02c8a1a971",
        "id": "V8pCxbU4rmAV"
      },
      "outputs": [
        {
          "output_type": "stream",
          "name": "stdout",
          "text": [
            "✅ Saved as 'final_mixed_audio.wav'\n"
          ]
        }
      ],
      "source": [
        "from pydub import AudioSegment, silence\n",
        "import pysrt\n",
        "import os\n",
        "\n",
        "# === Load audio files ===\n",
        "speech = AudioSegment.from_wav(\"combined_audio.wav\")\n",
        "bg = AudioSegment.from_file(\"audio.wav\")  # Works for .mp3, .wav, etc.\n",
        "\n",
        "# === Load subtitles ===\n",
        "subs = pysrt.open('translated.srt', encoding='utf-8')\n",
        "\n",
        "# === Ensure background is long enough ===\n",
        "if len(bg) < len(speech):\n",
        "    bg *= ((len(speech) // len(bg)) + 1)\n",
        "#bg = bg[:len(speech)]\n",
        "\n",
        "# === Volume settings ===\n",
        "speech_gain = 5\n",
        "bg_quiet_gain = -20  # Lower volume during speech\n",
        "fade_duration = 500  # in ms, for fade in/out\n",
        "\n",
        "# === Start with background as base ===\n",
        "output = bg\n",
        "\n",
        "# === Process each speech segment ===\n",
        "for i, sub in enumerate(subs):\n",
        "\n",
        "    # Time window in ms\n",
        "    start = (sub.start.hours * 3600 + sub.start.minutes * 60 + sub.start.seconds) * 1000 + sub.start.milliseconds\n",
        "    end = (sub.end.hours * 3600 + sub.end.minutes * 60 + sub.end.seconds) * 1000 + sub.end.milliseconds\n",
        "    time_window = end - start\n",
        "\n",
        "    # Apply fades to background and mix with speech\n",
        "    speech_chunk = speech[start:end] + speech_gain\n",
        "    bg_chunk = bg[start:end] + bg_quiet_gain\n",
        "\n",
        "    # Add fade-in and fade-out for smoother transitions\n",
        "    #speech_chunk = speech_chunk.fade_in(fade_duration).fade_out(fade_duration)\n",
        "    bg_chunk = bg_chunk.fade_in(fade_duration).fade_out(fade_duration)\n",
        "\n",
        "    mixed = bg_chunk.overlay(speech_chunk)\n",
        "\n",
        "    # Replace that portion in output\n",
        "    output = output[:start] + mixed + output[end:]\n",
        "\n",
        "# === Export as WAV ===\n",
        "output.export(\"final_mixed_audio.wav\", format=\"wav\")\n",
        "print(\"✅ Saved as 'final_mixed_audio.wav'\")\n",
        "\n",
        "# === Export as MP3 (compressed) ===\n",
        "#output.export(\"final_mixed_audio.mp3\", format=\"mp3\", bitrate=\"192k\")\n",
        "#print(\"🎧 Saved as 'final_mixed_audio.mp3'\")\n"
      ]
    },
    {
      "cell_type": "markdown",
      "source": [
        "# Download video"
      ],
      "metadata": {
        "id": "PY0gaL1Pt5R7"
      }
    },
    {
      "cell_type": "code",
      "source": [
        "# checking qualities\n",
        "!yt-dlp -F \"{youtube_url}\""
      ],
      "metadata": {
        "colab": {
          "base_uri": "https://localhost:8080/"
        },
        "id": "mMU6tXJKSVzW",
        "outputId": "b1076b7f-5ce8-45eb-9e51-954d8b8bbfb6"
      },
      "execution_count": 6,
      "outputs": [
        {
          "output_type": "stream",
          "name": "stdout",
          "text": [
            "[youtube] Extracting URL: https://www.youtube.com/watch?v=sG0JM9lChPk\n",
            "[youtube] sG0JM9lChPk: Downloading webpage\n",
            "[youtube] sG0JM9lChPk: Downloading tv client config\n",
            "[youtube] sG0JM9lChPk: Downloading tv player API JSON\n",
            "[youtube] sG0JM9lChPk: Downloading ios player API JSON\n",
            "[youtube] sG0JM9lChPk: Downloading m3u8 information\n",
            "[info] Available formats for sG0JM9lChPk:\n",
            "\u001b[0;33mID\u001b[0m      \u001b[0;33mEXT\u001b[0m   \u001b[0;33mRESOLUTION\u001b[0m \u001b[0;33mFPS\u001b[0m \u001b[0;33mCH\u001b[0m \u001b[0;33m\u001b[0;34m│\u001b[0;33m\u001b[0m \u001b[0;33m  FILESIZE\u001b[0m \u001b[0;33m   TBR\u001b[0m \u001b[0;33mPROTO\u001b[0m \u001b[0;33m\u001b[0;34m│\u001b[0;33m\u001b[0m \u001b[0;33mVCODEC\u001b[0m        \u001b[0;33m   VBR\u001b[0m \u001b[0;33mACODEC\u001b[0m     \u001b[0;33m ABR\u001b[0m \u001b[0;33mASR\u001b[0m \u001b[0;33mMORE INFO\u001b[0m\n",
            "\u001b[0;34m─\u001b[0m\u001b[0;34m─\u001b[0m\u001b[0;34m─\u001b[0m\u001b[0;34m─\u001b[0m\u001b[0;34m─\u001b[0m\u001b[0;34m─\u001b[0m\u001b[0;34m─\u001b[0m\u001b[0;34m─\u001b[0m\u001b[0;34m─\u001b[0m\u001b[0;34m─\u001b[0m\u001b[0;34m─\u001b[0m\u001b[0;34m─\u001b[0m\u001b[0;34m─\u001b[0m\u001b[0;34m─\u001b[0m\u001b[0;34m─\u001b[0m\u001b[0;34m─\u001b[0m\u001b[0;34m─\u001b[0m\u001b[0;34m─\u001b[0m\u001b[0;34m─\u001b[0m\u001b[0;34m─\u001b[0m\u001b[0;34m─\u001b[0m\u001b[0;34m─\u001b[0m\u001b[0;34m─\u001b[0m\u001b[0;34m─\u001b[0m\u001b[0;34m─\u001b[0m\u001b[0;34m─\u001b[0m\u001b[0;34m─\u001b[0m\u001b[0;34m─\u001b[0m\u001b[0;34m─\u001b[0m\u001b[0;34m─\u001b[0m\u001b[0;34m─\u001b[0m\u001b[0;34m─\u001b[0m\u001b[0;34m─\u001b[0m\u001b[0;34m─\u001b[0m\u001b[0;34m─\u001b[0m\u001b[0;34m─\u001b[0m\u001b[0;34m─\u001b[0m\u001b[0;34m─\u001b[0m\u001b[0;34m─\u001b[0m\u001b[0;34m─\u001b[0m\u001b[0;34m─\u001b[0m\u001b[0;34m─\u001b[0m\u001b[0;34m─\u001b[0m\u001b[0;34m─\u001b[0m\u001b[0;34m─\u001b[0m\u001b[0;34m─\u001b[0m\u001b[0;34m─\u001b[0m\u001b[0;34m─\u001b[0m\u001b[0;34m─\u001b[0m\u001b[0;34m─\u001b[0m\u001b[0;34m─\u001b[0m\u001b[0;34m─\u001b[0m\u001b[0;34m─\u001b[0m\u001b[0;34m─\u001b[0m\u001b[0;34m─\u001b[0m\u001b[0;34m─\u001b[0m\u001b[0;34m─\u001b[0m\u001b[0;34m─\u001b[0m\u001b[0;34m─\u001b[0m\u001b[0;34m─\u001b[0m\u001b[0;34m─\u001b[0m\u001b[0;34m─\u001b[0m\u001b[0;34m─\u001b[0m\u001b[0;34m─\u001b[0m\u001b[0;34m─\u001b[0m\u001b[0;34m─\u001b[0m\u001b[0;34m─\u001b[0m\u001b[0;34m─\u001b[0m\u001b[0;34m─\u001b[0m\u001b[0;34m─\u001b[0m\u001b[0;34m─\u001b[0m\u001b[0;34m─\u001b[0m\u001b[0;34m─\u001b[0m\u001b[0;34m─\u001b[0m\u001b[0;34m─\u001b[0m\u001b[0;34m─\u001b[0m\u001b[0;34m─\u001b[0m\u001b[0;34m─\u001b[0m\u001b[0;34m─\u001b[0m\u001b[0;34m─\u001b[0m\u001b[0;34m─\u001b[0m\u001b[0;34m─\u001b[0m\u001b[0;34m─\u001b[0m\u001b[0;34m─\u001b[0m\u001b[0;34m─\u001b[0m\u001b[0;34m─\u001b[0m\u001b[0;34m─\u001b[0m\u001b[0;34m─\u001b[0m\u001b[0;34m─\u001b[0m\u001b[0;34m─\u001b[0m\u001b[0;34m─\u001b[0m\u001b[0;34m─\u001b[0m\u001b[0;34m─\u001b[0m\u001b[0;34m─\u001b[0m\u001b[0;34m─\u001b[0m\u001b[0;34m─\u001b[0m\u001b[0;34m─\u001b[0m\u001b[0;34m─\u001b[0m\u001b[0;34m─\u001b[0m\u001b[0;34m─\u001b[0m\u001b[0;34m─\u001b[0m\u001b[0;34m─\u001b[0m\u001b[0;34m─\u001b[0m\u001b[0;34m─\u001b[0m\u001b[0;34m─\u001b[0m\u001b[0;34m─\u001b[0m\u001b[0;34m─\u001b[0m\u001b[0;34m─\u001b[0m\u001b[0;34m─\u001b[0m\u001b[0;34m─\u001b[0m\u001b[0;34m─\u001b[0m\u001b[0;34m─\u001b[0m\u001b[0;34m─\u001b[0m\u001b[0;34m─\u001b[0m\u001b[0;34m─\u001b[0m\u001b[0;34m─\u001b[0m\u001b[0;34m─\u001b[0m\u001b[0;34m─\u001b[0m\u001b[0;34m─\u001b[0m\u001b[0;34m─\u001b[0m\u001b[0;34m─\u001b[0m\u001b[0;34m─\u001b[0m\u001b[0;34m─\u001b[0m\u001b[0;34m─\u001b[0m\u001b[0;34m─\u001b[0m\u001b[0;34m─\u001b[0m\u001b[0;34m─\u001b[0m\u001b[0;34m─\u001b[0m\n",
            "\u001b[0;32msb3\u001b[0m     mhtml 48x27        0    \u001b[0;34m│\u001b[0m                   mhtml \u001b[0;34m│\u001b[0m images                                   storyboard\n",
            "\u001b[0;32msb2\u001b[0m     mhtml 80x45        0    \u001b[0;34m│\u001b[0m                   mhtml \u001b[0;34m│\u001b[0m images                                   storyboard\n",
            "\u001b[0;32msb1\u001b[0m     mhtml 160x90       0    \u001b[0;34m│\u001b[0m                   mhtml \u001b[0;34m│\u001b[0m images                                   storyboard\n",
            "\u001b[0;32msb0\u001b[0m     mhtml 320x180      0    \u001b[0;34m│\u001b[0m                   mhtml \u001b[0;34m│\u001b[0m images                                   storyboard\n",
            "\u001b[0;32m233\u001b[0m     mp4   audio only        \u001b[0;34m│\u001b[0m                   m3u8  \u001b[0;34m│\u001b[0m \u001b[0;90maudio only\u001b[0m           unknown             [en] Default, low\n",
            "\u001b[0;32m234\u001b[0m     mp4   audio only        \u001b[0;34m│\u001b[0m                   m3u8  \u001b[0;34m│\u001b[0m \u001b[0;90maudio only\u001b[0m           unknown             [en] Default, high\n",
            "\u001b[0;32m249-drc\u001b[0m webm  audio only      2 \u001b[0;34m│\u001b[0m   14.95MiB    51k https \u001b[0;34m│\u001b[0m \u001b[0;90maudio only\u001b[0m           opus        51k 48k [en] low, DRC, webm_dash\n",
            "\u001b[0;32m250-drc\u001b[0m webm  audio only      2 \u001b[0;34m│\u001b[0m   19.80MiB    67k https \u001b[0;34m│\u001b[0m \u001b[0;90maudio only\u001b[0m           opus        67k 48k [en] low, DRC, webm_dash\n",
            "\u001b[0;32m249\u001b[0m     webm  audio only      2 \u001b[0;34m│\u001b[0m   14.90MiB    51k https \u001b[0;34m│\u001b[0m \u001b[0;90maudio only\u001b[0m           opus        51k 48k [en] low, webm_dash\n",
            "\u001b[0;32m250\u001b[0m     webm  audio only      2 \u001b[0;34m│\u001b[0m   19.75MiB    67k https \u001b[0;34m│\u001b[0m \u001b[0;90maudio only\u001b[0m           opus        67k 48k [en] low, webm_dash\n",
            "\u001b[0;32m140-drc\u001b[0m m4a   audio only      2 \u001b[0;34m│\u001b[0m   38.17MiB   129k https \u001b[0;34m│\u001b[0m \u001b[0;90maudio only\u001b[0m           mp4a.40.2  129k 44k [en] medium, DRC, m4a_dash\n",
            "\u001b[0;32m251-drc\u001b[0m webm  audio only      2 \u001b[0;34m│\u001b[0m   39.95MiB   136k https \u001b[0;34m│\u001b[0m \u001b[0;90maudio only\u001b[0m           opus       136k 48k [en] medium, DRC, webm_dash\n",
            "\u001b[0;32m140\u001b[0m     m4a   audio only      2 \u001b[0;34m│\u001b[0m   38.17MiB   129k https \u001b[0;34m│\u001b[0m \u001b[0;90maudio only\u001b[0m           mp4a.40.2  129k 44k [en] medium, m4a_dash\n",
            "\u001b[0;32m251\u001b[0m     webm  audio only      2 \u001b[0;34m│\u001b[0m   39.89MiB   135k https \u001b[0;34m│\u001b[0m \u001b[0;90maudio only\u001b[0m           opus       135k 48k [en] medium, webm_dash\n",
            "\u001b[0;32m602\u001b[0m     mp4   256x144     15    \u001b[0;34m│\u001b[0m \u001b[0;90m~ 30.54MiB\u001b[0m   104k m3u8  \u001b[0;34m│\u001b[0m vp09.00.10.08   104k \u001b[0;90mvideo only\u001b[0m\n",
            "\u001b[0;32m269\u001b[0m     mp4   256x144     30    \u001b[0;34m│\u001b[0m \u001b[0;90m~ 50.69MiB\u001b[0m   172k m3u8  \u001b[0;34m│\u001b[0m avc1.4D400C     172k \u001b[0;90mvideo only\u001b[0m\n",
            "\u001b[0;32m160\u001b[0m     mp4   256x144     30    \u001b[0;34m│\u001b[0m   20.00MiB    68k https \u001b[0;34m│\u001b[0m avc1.4d400c      68k \u001b[0;90mvideo only\u001b[0m          144p, mp4_dash\n",
            "\u001b[0;32m603\u001b[0m     mp4   256x144     30    \u001b[0;34m│\u001b[0m \u001b[0;90m~ 53.85MiB\u001b[0m   183k m3u8  \u001b[0;34m│\u001b[0m vp09.00.11.08   183k \u001b[0;90mvideo only\u001b[0m\n",
            "\u001b[0;32m278\u001b[0m     webm  256x144     30    \u001b[0;34m│\u001b[0m   21.96MiB    74k https \u001b[0;34m│\u001b[0m vp9              74k \u001b[0;90mvideo only\u001b[0m          144p, webm_dash\n",
            "\u001b[0;32m394\u001b[0m     mp4   256x144     30    \u001b[0;34m│\u001b[0m   19.38MiB    66k https \u001b[0;34m│\u001b[0m av01.0.00M.08    66k \u001b[0;90mvideo only\u001b[0m          144p, mp4_dash\n",
            "\u001b[0;32m229\u001b[0m     mp4   426x240     30    \u001b[0;34m│\u001b[0m \u001b[0;90m~ 92.59MiB\u001b[0m   314k m3u8  \u001b[0;34m│\u001b[0m avc1.4D4015     314k \u001b[0;90mvideo only\u001b[0m\n",
            "\u001b[0;32m133\u001b[0m     mp4   426x240     30    \u001b[0;34m│\u001b[0m   46.51MiB   158k https \u001b[0;34m│\u001b[0m avc1.4d4015     158k \u001b[0;90mvideo only\u001b[0m          240p, mp4_dash\n",
            "\u001b[0;32m604\u001b[0m     mp4   426x240     30    \u001b[0;34m│\u001b[0m \u001b[0;90m~ 93.66MiB\u001b[0m   318k m3u8  \u001b[0;34m│\u001b[0m vp09.00.20.08   318k \u001b[0;90mvideo only\u001b[0m\n",
            "\u001b[0;32m242\u001b[0m     webm  426x240     30    \u001b[0;34m│\u001b[0m   39.52MiB   134k https \u001b[0;34m│\u001b[0m vp9             134k \u001b[0;90mvideo only\u001b[0m          240p, webm_dash\n",
            "\u001b[0;32m395\u001b[0m     mp4   426x240     30    \u001b[0;34m│\u001b[0m   34.51MiB   117k https \u001b[0;34m│\u001b[0m av01.0.00M.08   117k \u001b[0;90mvideo only\u001b[0m          240p, mp4_dash\n",
            "\u001b[0;32m230\u001b[0m     mp4   640x360     30    \u001b[0;34m│\u001b[0m \u001b[0;90m~237.68MiB\u001b[0m   806k m3u8  \u001b[0;34m│\u001b[0m avc1.4D401E     806k \u001b[0;90mvideo only\u001b[0m\n",
            "\u001b[0;32m134\u001b[0m     mp4   640x360     30    \u001b[0;34m│\u001b[0m   97.93MiB   332k https \u001b[0;34m│\u001b[0m avc1.4d401e     332k \u001b[0;90mvideo only\u001b[0m          360p, mp4_dash\n",
            "\u001b[0;32m18\u001b[0m      mp4   640x360     30  2 \u001b[0;34m│\u001b[0m ≈135.95MiB   461k https \u001b[0;34m│\u001b[0m avc1.42001E          mp4a.40.2       44k [en] 360p\n",
            "\u001b[0;32m605\u001b[0m     mp4   640x360     30    \u001b[0;34m│\u001b[0m \u001b[0;90m~247.30MiB\u001b[0m   839k m3u8  \u001b[0;34m│\u001b[0m vp09.00.21.08   839k \u001b[0;90mvideo only\u001b[0m\n",
            "\u001b[0;32m243\u001b[0m     webm  640x360     30    \u001b[0;34m│\u001b[0m  102.13MiB   346k https \u001b[0;34m│\u001b[0m vp9             346k \u001b[0;90mvideo only\u001b[0m          360p, webm_dash\n",
            "\u001b[0;32m396\u001b[0m     mp4   640x360     30    \u001b[0;34m│\u001b[0m   75.34MiB   256k https \u001b[0;34m│\u001b[0m av01.0.01M.08   256k \u001b[0;90mvideo only\u001b[0m          360p, mp4_dash\n",
            "\u001b[0;32m231\u001b[0m     mp4   854x480     30    \u001b[0;34m│\u001b[0m \u001b[0;90m~400.13MiB\u001b[0m  1357k m3u8  \u001b[0;34m│\u001b[0m avc1.4D401F    1357k \u001b[0;90mvideo only\u001b[0m\n",
            "\u001b[0;32m135\u001b[0m     mp4   854x480     30    \u001b[0;34m│\u001b[0m  164.17MiB   557k https \u001b[0;34m│\u001b[0m avc1.4d401f     557k \u001b[0;90mvideo only\u001b[0m          480p, mp4_dash\n",
            "\u001b[0;32m606\u001b[0m     mp4   854x480     30    \u001b[0;34m│\u001b[0m \u001b[0;90m~363.41MiB\u001b[0m  1233k m3u8  \u001b[0;34m│\u001b[0m vp09.00.30.08  1233k \u001b[0;90mvideo only\u001b[0m\n",
            "\u001b[0;32m244\u001b[0m     webm  854x480     30    \u001b[0;34m│\u001b[0m  148.22MiB   503k https \u001b[0;34m│\u001b[0m vp9             503k \u001b[0;90mvideo only\u001b[0m          480p, webm_dash\n",
            "\u001b[0;32m397\u001b[0m     mp4   854x480     30    \u001b[0;34m│\u001b[0m  143.83MiB   488k https \u001b[0;34m│\u001b[0m av01.0.04M.08   488k \u001b[0;90mvideo only\u001b[0m          480p, mp4_dash\n",
            "\u001b[0;32m232\u001b[0m     mp4   1280x720    30    \u001b[0;34m│\u001b[0m \u001b[0;90m~757.50MiB\u001b[0m  2569k m3u8  \u001b[0;34m│\u001b[0m avc1.4D401F    2569k \u001b[0;90mvideo only\u001b[0m\n",
            "\u001b[0;32m136\u001b[0m     mp4   1280x720    30    \u001b[0;34m│\u001b[0m  274.17MiB   930k https \u001b[0;34m│\u001b[0m avc1.4d401f     930k \u001b[0;90mvideo only\u001b[0m          720p, mp4_dash\n",
            "\u001b[0;32m609\u001b[0m     mp4   1280x720    30    \u001b[0;34m│\u001b[0m \u001b[0;90m~654.92MiB\u001b[0m  2222k m3u8  \u001b[0;34m│\u001b[0m vp09.00.31.08  2222k \u001b[0;90mvideo only\u001b[0m\n",
            "\u001b[0;32m247\u001b[0m     webm  1280x720    30    \u001b[0;34m│\u001b[0m  303.18MiB  1028k https \u001b[0;34m│\u001b[0m vp9            1028k \u001b[0;90mvideo only\u001b[0m          720p, webm_dash\n",
            "\u001b[0;32m398\u001b[0m     mp4   1280x720    30    \u001b[0;34m│\u001b[0m  274.44MiB   931k https \u001b[0;34m│\u001b[0m av01.0.05M.08   931k \u001b[0;90mvideo only\u001b[0m          720p, mp4_dash\n",
            "\u001b[0;32m270\u001b[0m     mp4   1920x1080   30    \u001b[0;34m│\u001b[0m \u001b[0;90m~  1.68GiB\u001b[0m  5827k m3u8  \u001b[0;34m│\u001b[0m avc1.640028    5827k \u001b[0;90mvideo only\u001b[0m\n",
            "\u001b[0;32m137\u001b[0m     mp4   1920x1080   30    \u001b[0;34m│\u001b[0m    1.03GiB  3580k https \u001b[0;34m│\u001b[0m avc1.640028    3580k \u001b[0;90mvideo only\u001b[0m          1080p, mp4_dash\n",
            "\u001b[0;32m614\u001b[0m     mp4   1920x1080   30    \u001b[0;34m│\u001b[0m \u001b[0;90m~  1.08GiB\u001b[0m  3744k m3u8  \u001b[0;34m│\u001b[0m vp09.00.40.08  3744k \u001b[0;90mvideo only\u001b[0m\n",
            "\u001b[0;32m248\u001b[0m     webm  1920x1080   30    \u001b[0;34m│\u001b[0m  553.89MiB  1879k https \u001b[0;34m│\u001b[0m vp9            1879k \u001b[0;90mvideo only\u001b[0m          1080p, webm_dash\n",
            "\u001b[0;32m399\u001b[0m     mp4   1920x1080   30    \u001b[0;34m│\u001b[0m  543.32MiB  1843k https \u001b[0;34m│\u001b[0m av01.0.08M.08  1843k \u001b[0;90mvideo only\u001b[0m          1080p, mp4_dash\n",
            "\u001b[0;32m620\u001b[0m     mp4   2560x1440   30    \u001b[0;34m│\u001b[0m \u001b[0;90m~  2.79GiB\u001b[0m  9696k m3u8  \u001b[0;34m│\u001b[0m vp09.00.50.08  9696k \u001b[0;90mvideo only\u001b[0m\n",
            "\u001b[0;32m271\u001b[0m     webm  2560x1440   30    \u001b[0;34m│\u001b[0m    2.29GiB  7953k https \u001b[0;34m│\u001b[0m vp9            7953k \u001b[0;90mvideo only\u001b[0m          1440p, webm_dash\n",
            "\u001b[0;32m400\u001b[0m     mp4   2560x1440   30    \u001b[0;34m│\u001b[0m    1.77GiB  6137k https \u001b[0;34m│\u001b[0m av01.0.12M.08  6137k \u001b[0;90mvideo only\u001b[0m          1440p, mp4_dash\n",
            "\u001b[0;32m625\u001b[0m     mp4   3840x2160   30    \u001b[0;34m│\u001b[0m \u001b[0;90m~  5.51GiB\u001b[0m 19132k m3u8  \u001b[0;34m│\u001b[0m vp09.00.50.08 19132k \u001b[0;90mvideo only\u001b[0m\n",
            "\u001b[0;32m313\u001b[0m     webm  3840x2160   30    \u001b[0;34m│\u001b[0m    4.90GiB 17021k https \u001b[0;34m│\u001b[0m vp9           17021k \u001b[0;90mvideo only\u001b[0m          2160p, webm_dash\n",
            "\u001b[0;32m401\u001b[0m     mp4   3840x2160   30    \u001b[0;34m│\u001b[0m    3.62GiB 12576k https \u001b[0;34m│\u001b[0m av01.0.12M.08 12576k \u001b[0;90mvideo only\u001b[0m          2160p, mp4_dash\n"
          ]
        }
      ]
    },
    {
      "cell_type": "markdown",
      "source": [
        "## testing"
      ],
      "metadata": {
        "id": "5VKwqc_GvriR"
      }
    },
    {
      "cell_type": "code",
      "source": [
        "\n",
        "# downloading low quality for test\n",
        "\n",
        "ydl_opts = {\n",
        "    'format': '160+bestaudio[ext=m4a]/mp4',  # 1080p video + good m4a audio\n",
        "    'outtmpl': 'test_video.mp4',\n",
        "    'merge_output_format': 'mp4'\n",
        "}\n",
        "with yt_dlp.YoutubeDL(ydl_opts) as ydl:\n",
        "    ydl.download([youtube_url])\n",
        "\n"
      ],
      "metadata": {
        "colab": {
          "base_uri": "https://localhost:8080/"
        },
        "id": "cf1HBN7ZwTIs",
        "outputId": "4cf086c1-66e9-4cb5-d0ba-33831d425f5f"
      },
      "execution_count": 14,
      "outputs": [
        {
          "output_type": "stream",
          "name": "stdout",
          "text": [
            "[youtube] Extracting URL: https://www.youtube.com/watch?v=sG0JM9lChPk\n",
            "[youtube] sG0JM9lChPk: Downloading webpage\n",
            "[youtube] sG0JM9lChPk: Downloading tv client config\n",
            "[youtube] sG0JM9lChPk: Downloading tv player API JSON\n",
            "[youtube] sG0JM9lChPk: Downloading ios player API JSON\n",
            "[youtube] sG0JM9lChPk: Downloading m3u8 information\n",
            "[info] sG0JM9lChPk: Downloading 1 format(s): 160+140\n",
            "[download] Destination: test_video.f160.mp4\n",
            "[download] 100% of   20.00MiB in 00:00:00 at 41.87MiB/s  \n",
            "[download] Destination: test_video.f140.m4a\n",
            "[download] 100% of   38.17MiB in 00:00:00 at 53.27MiB/s  \n",
            "[Merger] Merging formats into \"test_video.mp4\"\n",
            "Deleting original file test_video.f140.m4a (pass -k to keep)\n",
            "Deleting original file test_video.f160.mp4 (pass -k to keep)\n"
          ]
        }
      ]
    },
    {
      "cell_type": "code",
      "source": [
        "\n",
        "import subprocess\n",
        "\n",
        "# Replace audio using ffmpeg\n",
        "subprocess.call([\n",
        "    'ffmpeg', '-y',\n",
        "    '-i', 'test_video.mp4',\n",
        "    '-i', 'final_mixed_audio.wav',\n",
        "    '-c:v', 'copy',           # Copy video without re-encoding\n",
        "    '-map', '0:v:0',          # Use video from first input\n",
        "    '-map', '1:a:0',          # Use audio from second input\n",
        "    '-shortest',              # Trim to shorter of video or audio\n",
        "    'test_video_with_new_audio.mp4'\n",
        "])"
      ],
      "metadata": {
        "colab": {
          "base_uri": "https://localhost:8080/"
        },
        "id": "bTkfO33MvcS6",
        "outputId": "06453e75-6424-4721-fb91-31c5fc56f2ac"
      },
      "execution_count": 15,
      "outputs": [
        {
          "output_type": "execute_result",
          "data": {
            "text/plain": [
              "0"
            ]
          },
          "metadata": {},
          "execution_count": 15
        }
      ]
    },
    {
      "cell_type": "markdown",
      "source": [
        "## mixing high quality video and dubbed audio"
      ],
      "metadata": {
        "id": "MDvBztL9vv_H"
      }
    },
    {
      "cell_type": "code",
      "source": [
        "\n",
        "ydl_opts = {\n",
        "    'format': '399+bestaudio[ext=m4a]/mp4',  # 1080p video + good m4a audio\n",
        "    'outtmpl': 'video_1080p.mp4',\n",
        "    'merge_output_format': 'mp4'\n",
        "}\n",
        "with yt_dlp.YoutubeDL(ydl_opts) as ydl:\n",
        "    ydl.download([youtube_url])\n",
        "\n"
      ],
      "metadata": {
        "colab": {
          "base_uri": "https://localhost:8080/"
        },
        "id": "OIYgFqowToYO",
        "outputId": "b6b929b8-c7b9-47e2-93cd-785da105ff26"
      },
      "execution_count": 16,
      "outputs": [
        {
          "output_type": "stream",
          "name": "stdout",
          "text": [
            "[youtube] Extracting URL: https://www.youtube.com/watch?v=sG0JM9lChPk\n",
            "[youtube] sG0JM9lChPk: Downloading webpage\n",
            "[youtube] sG0JM9lChPk: Downloading tv client config\n",
            "[youtube] sG0JM9lChPk: Downloading tv player API JSON\n",
            "[youtube] sG0JM9lChPk: Downloading ios player API JSON\n",
            "[youtube] sG0JM9lChPk: Downloading m3u8 information\n",
            "[info] sG0JM9lChPk: Downloading 1 format(s): 399+140\n",
            "[download] Destination: video_1080p.f399.mp4\n",
            "[download] 100% of  543.32MiB in 00:00:10 at 52.88MiB/s  \n",
            "[download] Destination: video_1080p.f140.m4a\n",
            "[download] 100% of   38.17MiB in 00:00:00 at 63.17MiB/s  \n",
            "[Merger] Merging formats into \"video_1080p.mp4\"\n",
            "Deleting original file video_1080p.f140.m4a (pass -k to keep)\n",
            "Deleting original file video_1080p.f399.mp4 (pass -k to keep)\n"
          ]
        }
      ]
    },
    {
      "cell_type": "code",
      "source": [
        "\n",
        "ydl_opts = {\n",
        "    'format': 'bestvideo[ext=mp4]+bestaudio[ext=m4a]/mp4'\n",
        "    'outtmpl': 'video_1080p.mp4',\n",
        "    'merge_output_format': 'mp4'\n",
        "}\n",
        "with yt_dlp.YoutubeDL(ydl_opts) as ydl:\n",
        "    ydl.download([youtube_url])\n"
      ],
      "metadata": {
        "id": "Nq8OI2tIh2jb"
      },
      "execution_count": null,
      "outputs": []
    },
    {
      "cell_type": "code",
      "source": [
        "import subprocess\n",
        "\n",
        "# Replace audio using ffmpeg\n",
        "subprocess.call([\n",
        "    'ffmpeg', '-y',\n",
        "    '-i', 'video_1080p.mp4',\n",
        "    '-i', 'final_mixed_audio.wav',\n",
        "    '-c:v', 'copy',           # Copy video without re-encoding\n",
        "    '-map', '0:v:0',          # Use video from first input\n",
        "    '-map', '1:a:0',          # Use audio from second input\n",
        "    '-shortest',              # Trim to shorter of video or audio\n",
        "    'dubbed_video.mp4'\n",
        "])\n"
      ],
      "metadata": {
        "colab": {
          "base_uri": "https://localhost:8080/"
        },
        "id": "Anmc-zJqRsTl",
        "outputId": "450857a7-15ab-4354-d134-d0d16d94785f"
      },
      "execution_count": 18,
      "outputs": [
        {
          "output_type": "execute_result",
          "data": {
            "text/plain": [
              "0"
            ]
          },
          "metadata": {},
          "execution_count": 18
        }
      ]
    },
    {
      "cell_type": "markdown",
      "source": [
        "## upload result to google drive"
      ],
      "metadata": {
        "id": "AHgusTfhx6nC"
      }
    },
    {
      "cell_type": "code",
      "source": [
        "import shutil\n",
        "\n",
        "source_path = \"/content/dubbed_video.mp4\"\n",
        "destination_path = \"/content/drive/MyDrive/dub/dubbed_video.mp4\"\n",
        "shutil.copy(source_path, destination_path)\n",
        "\n",
        "\n",
        "\n",
        "print(\"✅ File copied from Google Drive.\")"
      ],
      "metadata": {
        "colab": {
          "base_uri": "https://localhost:8080/"
        },
        "id": "8OFdKR99x3TO",
        "outputId": "03228c97-d5c1-4201-9147-6a9077da7ba9"
      },
      "execution_count": 19,
      "outputs": [
        {
          "output_type": "stream",
          "name": "stdout",
          "text": [
            "✅ File copied from Google Drive.\n"
          ]
        }
      ]
    }
  ]
}