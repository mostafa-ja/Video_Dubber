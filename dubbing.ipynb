{
  "nbformat": 4,
  "nbformat_minor": 0,
  "metadata": {
    "colab": {
      "provenance": [],
      "mount_file_id": "1CE9pX6D2CR24XcmXaKhrmkKnUYVUIhkS",
      "authorship_tag": "ABX9TyPnx3B6UfD+NeiM+yOhaOsa",
      "include_colab_link": true
    },
    "kernelspec": {
      "name": "python3",
      "display_name": "Python 3"
    },
    "language_info": {
      "name": "python"
    }
  },
  "cells": [
    {
      "cell_type": "markdown",
      "metadata": {
        "id": "view-in-github",
        "colab_type": "text"
      },
      "source": [
        "<a href=\"https://colab.research.google.com/github/mostafa-ja/Video_Dubber/blob/main/dubbing.ipynb\" target=\"_parent\"><img src=\"https://colab.research.google.com/assets/colab-badge.svg\" alt=\"Open In Colab\"/></a>"
      ]
    },
    {
      "cell_type": "code",
      "source": [
        "!pip install ffmpeg pysrt yt-dlp\n"
      ],
      "metadata": {
        "colab": {
          "base_uri": "https://localhost:8080/"
        },
        "id": "F-NEJWg0QLPj",
        "outputId": "9035f8a6-a758-48d5-c9df-5f8bfd53053e"
      },
      "execution_count": 1,
      "outputs": [
        {
          "output_type": "stream",
          "name": "stdout",
          "text": [
            "Collecting ffmpeg\n",
            "  Downloading ffmpeg-1.4.tar.gz (5.1 kB)\n",
            "  Preparing metadata (setup.py) ... \u001b[?25l\u001b[?25hdone\n",
            "Collecting pysrt\n",
            "  Downloading pysrt-1.1.2.tar.gz (104 kB)\n",
            "\u001b[2K     \u001b[90m━━━━━━━━━━━━━━━━━━━━━━━━━━━━━━━━━━━━━━━\u001b[0m \u001b[32m104.4/104.4 kB\u001b[0m \u001b[31m6.0 MB/s\u001b[0m eta \u001b[36m0:00:00\u001b[0m\n",
            "\u001b[?25h  Preparing metadata (setup.py) ... \u001b[?25l\u001b[?25hdone\n",
            "Collecting yt-dlp\n",
            "  Downloading yt_dlp-2025.5.22-py3-none-any.whl.metadata (174 kB)\n",
            "\u001b[2K     \u001b[90m━━━━━━━━━━━━━━━━━━━━━━━━━━━━━━━━━━━━━━━\u001b[0m \u001b[32m174.3/174.3 kB\u001b[0m \u001b[31m7.3 MB/s\u001b[0m eta \u001b[36m0:00:00\u001b[0m\n",
            "\u001b[?25hRequirement already satisfied: chardet in /usr/local/lib/python3.11/dist-packages (from pysrt) (5.2.0)\n",
            "Downloading yt_dlp-2025.5.22-py3-none-any.whl (3.3 MB)\n",
            "\u001b[2K   \u001b[90m━━━━━━━━━━━━━━━━━━━━━━━━━━━━━━━━━━━━━━━━\u001b[0m \u001b[32m3.3/3.3 MB\u001b[0m \u001b[31m68.6 MB/s\u001b[0m eta \u001b[36m0:00:00\u001b[0m\n",
            "\u001b[?25hBuilding wheels for collected packages: ffmpeg, pysrt\n",
            "  Building wheel for ffmpeg (setup.py) ... \u001b[?25l\u001b[?25hdone\n",
            "  Created wheel for ffmpeg: filename=ffmpeg-1.4-py3-none-any.whl size=6083 sha256=fcfd00a051b7d6e65a76451486f22001723ad2e19badf8e31275ec0081b6721c\n",
            "  Stored in directory: /root/.cache/pip/wheels/56/30/c5/576bdd729f3bc062d62a551be7fefd6ed2f761901568171e4e\n",
            "  Building wheel for pysrt (setup.py) ... \u001b[?25l\u001b[?25hdone\n",
            "  Created wheel for pysrt: filename=pysrt-1.1.2-py3-none-any.whl size=13443 sha256=bb4017a92a057f384019040e876f7bed3bbb26ccf728805c0940612856c4f6cb\n",
            "  Stored in directory: /root/.cache/pip/wheels/2d/b2/df/ea10959920533975b4a74a25a35e6d79655b63f3006611a99f\n",
            "Successfully built ffmpeg pysrt\n",
            "Installing collected packages: ffmpeg, yt-dlp, pysrt\n",
            "Successfully installed ffmpeg-1.4 pysrt-1.1.2 yt-dlp-2025.5.22\n"
          ]
        }
      ]
    },
    {
      "cell_type": "markdown",
      "source": [
        "# Combine original and dubbed audio"
      ],
      "metadata": {
        "id": "muO0KsnypA4i"
      }
    },
    {
      "cell_type": "markdown",
      "source": [
        "## # upload dubbed audio"
      ],
      "metadata": {
        "id": "tTTMJeRJpUuQ"
      }
    },
    {
      "cell_type": "code",
      "source": [
        "import shutil\n",
        "\n",
        "# dubbed audio\n",
        "source_path = \"/content/drive/MyDrive/combined_audio.wav\"\n",
        "destination_path = \"/content/combined_audio.wav\"\n",
        "shutil.copy(source_path, destination_path)\n",
        "\n",
        "# translated srt\n",
        "source_path = \"/content/drive/My Drive/translated.srt\"\n",
        "destination_path = \"/content/translated.srt\"\n",
        "shutil.copy(source_path, destination_path)\n",
        "\n",
        "\n",
        "print(\"✅ Files copied from Google Drive.\")"
      ],
      "metadata": {
        "colab": {
          "base_uri": "https://localhost:8080/"
        },
        "id": "YvoS1Q2OQzO2",
        "outputId": "921cb596-4b7b-4967-975a-e7fcef4ac3d7"
      },
      "execution_count": 4,
      "outputs": [
        {
          "output_type": "stream",
          "name": "stdout",
          "text": [
            "✅ File copied from Google Drive.\n"
          ]
        }
      ]
    },
    {
      "cell_type": "markdown",
      "source": [
        "## extract original audio"
      ],
      "metadata": {
        "id": "EkI4meB3pWpx"
      }
    },
    {
      "cell_type": "code",
      "source": [
        "import yt_dlp\n",
        "import os\n",
        "\n",
        "youtube_url = \"https://www.youtube.com/watch?v=ISToBIkSNbM\"\n",
        "output_path=\"audio\"\n",
        "\n",
        "ydl_opts = {\n",
        "    'format': 'bestaudio/best',\n",
        "    'outtmpl': output_path,\n",
        "    'postprocessors': [{\n",
        "        'key': 'FFmpegExtractAudio',\n",
        "        'preferredcodec': 'wav',\n",
        "    }],\n",
        "    'quiet': False\n",
        "}\n",
        "\n",
        "with yt_dlp.YoutubeDL(ydl_opts) as ydl:\n",
        "    ydl.download([youtube_url])"
      ],
      "metadata": {
        "colab": {
          "base_uri": "https://localhost:8080/"
        },
        "id": "Y6cgwg1_QixP",
        "outputId": "1f4ffaf0-221d-4f97-dd8e-e540d8bc8487"
      },
      "execution_count": 3,
      "outputs": [
        {
          "output_type": "stream",
          "name": "stdout",
          "text": [
            "[youtube] Extracting URL: https://www.youtube.com/watch?v=ISToBIkSNbM\n",
            "[youtube] ISToBIkSNbM: Downloading webpage\n",
            "[youtube] ISToBIkSNbM: Downloading tv client config\n",
            "[youtube] ISToBIkSNbM: Downloading player 612f74a3-main\n",
            "[youtube] ISToBIkSNbM: Downloading tv player API JSON\n",
            "[youtube] ISToBIkSNbM: Downloading ios player API JSON\n",
            "[youtube] ISToBIkSNbM: Downloading m3u8 information\n",
            "[info] ISToBIkSNbM: Downloading 1 format(s): 251\n",
            "[download] Destination: audio\n",
            "[download] 100% of   16.53MiB in 00:00:00 at 30.46MiB/s  \n",
            "[ExtractAudio] Destination: audio.wav\n",
            "Deleting original file audio (pass -k to keep)\n"
          ]
        }
      ]
    },
    {
      "cell_type": "markdown",
      "source": [
        "## mix audios"
      ],
      "metadata": {
        "id": "fbRyQTWepa5Y"
      }
    },
    {
      "cell_type": "markdown",
      "source": [
        "## mixing based on silence times"
      ],
      "metadata": {
        "id": "0_uGYFM1tWwR"
      }
    },
    {
      "cell_type": "code",
      "execution_count": 11,
      "metadata": {
        "colab": {
          "base_uri": "https://localhost:8080/"
        },
        "id": "HushH5pvPQ9x",
        "outputId": "49d4b137-7ca8-4199-b68c-f519e3b0b794"
      },
      "outputs": [
        {
          "output_type": "stream",
          "name": "stdout",
          "text": [
            "✅ Saved as 'final_mixed_audio.wav'\n",
            "🎧 Saved as 'final_mixed_audio.mp3'\n"
          ]
        }
      ],
      "source": [
        "from pydub import AudioSegment, silence\n",
        "import os\n",
        "\n",
        "# === Load audio files ===\n",
        "speech = AudioSegment.from_wav(\"combined_audio.wav\")\n",
        "bg = AudioSegment.from_file(\"audio.wav\")  # Works for .mp3, .wav, etc.\n",
        "\n",
        "# === Ensure background is long enough ===\n",
        "if len(bg) < len(speech):\n",
        "    bg *= ((len(speech) // len(bg)) + 1)\n",
        "#bg = bg[:len(speech)]\n",
        "\n",
        "# === Detect non-silent parts of speech ===\n",
        "nonsilent_ranges = silence.detect_nonsilent(\n",
        "    speech,\n",
        "    min_silence_len=200,\n",
        "    silence_thresh=speech.dBFS - 16\n",
        ")\n",
        "\n",
        "# === Volume settings ===\n",
        "speech_gain = 5\n",
        "bg_quiet_gain = -20  # Lower volume during speech\n",
        "fade_duration = 1000  # in ms, for fade in/out\n",
        "\n",
        "# === Start with background as base ===\n",
        "output = bg\n",
        "\n",
        "# === Process each speech segment ===\n",
        "for start, end in nonsilent_ranges:\n",
        "    # Apply fades to background and mix with speech\n",
        "    speech_chunk = speech[start:end] + speech_gain\n",
        "    bg_chunk = bg[start:end] + bg_quiet_gain\n",
        "\n",
        "    # Add fade-in and fade-out for smoother transitions\n",
        "    #speech_chunk = speech_chunk.fade_in(fade_duration).fade_out(fade_duration)\n",
        "    bg_chunk = bg_chunk.fade_in(fade_duration).fade_out(fade_duration)\n",
        "\n",
        "    mixed = bg_chunk.overlay(speech_chunk)\n",
        "\n",
        "    # Replace that portion in output\n",
        "    output = output[:start] + mixed + output[end:]\n",
        "\n",
        "# === Export as WAV ===\n",
        "output.export(\"final_mixed_audio.wav\", format=\"wav\")\n",
        "print(\"✅ Saved as 'final_mixed_audio.wav'\")\n",
        "\n",
        "# === Export as MP3 (compressed) ===\n",
        "output.export(\"final_mixed_audio.mp3\", format=\"mp3\", bitrate=\"192k\")\n",
        "print(\"🎧 Saved as 'final_mixed_audio.mp3'\")\n"
      ]
    },
    {
      "cell_type": "markdown",
      "source": [
        "## ## mixing based on subtitle times"
      ],
      "metadata": {
        "id": "Icz5tEcMtbyn"
      }
    },
    {
      "cell_type": "code",
      "execution_count": 11,
      "metadata": {
        "colab": {
          "base_uri": "https://localhost:8080/"
        },
        "outputId": "6e242c7d-59b9-4616-9131-df7684dd6da8",
        "id": "V8pCxbU4rmAV"
      },
      "outputs": [
        {
          "output_type": "stream",
          "name": "stdout",
          "text": [
            "✅ Saved as 'final_mixed_audio.wav'\n",
            "🎧 Saved as 'final_mixed_audio.mp3'\n"
          ]
        }
      ],
      "source": [
        "from pydub import AudioSegment, silence\n",
        "import pysrt\n",
        "import os\n",
        "\n",
        "# === Load audio files ===\n",
        "speech = AudioSegment.from_wav(\"combined_audio.wav\")\n",
        "bg = AudioSegment.from_file(\"audio.wav\")  # Works for .mp3, .wav, etc.\n",
        "\n",
        "# === Load subtitles ===\n",
        "subs = pysrt.open('translated.srt', encoding='utf-8')\n",
        "\n",
        "# === Ensure background is long enough ===\n",
        "if len(bg) < len(speech):\n",
        "    bg *= ((len(speech) // len(bg)) + 1)\n",
        "#bg = bg[:len(speech)]\n",
        "\n",
        "# === Volume settings ===\n",
        "speech_gain = 5\n",
        "bg_quiet_gain = -20  # Lower volume during speech\n",
        "fade_duration = 500  # in ms, for fade in/out\n",
        "\n",
        "# === Start with background as base ===\n",
        "output = bg\n",
        "\n",
        "# === Process each speech segment ===\n",
        "for i, sub in enumerate(subs):\n",
        "\n",
        "    # Time window in ms\n",
        "    start = (sub.start.hours * 3600 + sub.start.minutes * 60 + sub.start.seconds) * 1000 + sub.start.milliseconds\n",
        "    end = (sub.end.hours * 3600 + sub.end.minutes * 60 + sub.end.seconds) * 1000 + sub.end.milliseconds\n",
        "    time_window = end - start\n",
        "\n",
        "    # Apply fades to background and mix with speech\n",
        "    speech_chunk = speech[start:end] + speech_gain\n",
        "    bg_chunk = bg[start:end] + bg_quiet_gain\n",
        "\n",
        "    # Add fade-in and fade-out for smoother transitions\n",
        "    #speech_chunk = speech_chunk.fade_in(fade_duration).fade_out(fade_duration)\n",
        "    bg_chunk = bg_chunk.fade_in(fade_duration).fade_out(fade_duration)\n",
        "\n",
        "    mixed = bg_chunk.overlay(speech_chunk)\n",
        "\n",
        "    # Replace that portion in output\n",
        "    output = output[:start] + mixed + output[end:]\n",
        "\n",
        "# === Export as WAV ===\n",
        "output.export(\"final_mixed_audio.wav\", format=\"wav\")\n",
        "print(\"✅ Saved as 'final_mixed_audio.wav'\")\n",
        "\n",
        "# === Export as MP3 (compressed) ===\n",
        "output.export(\"final_mixed_audio.mp3\", format=\"mp3\", bitrate=\"192k\")\n",
        "print(\"🎧 Saved as 'final_mixed_audio.mp3'\")\n"
      ]
    },
    {
      "cell_type": "markdown",
      "source": [
        "# Download video"
      ],
      "metadata": {
        "id": "PY0gaL1Pt5R7"
      }
    },
    {
      "cell_type": "code",
      "source": [
        "# checking qualities\n",
        "!yt-dlp -F \"https://www.youtube.com/watch?v=ISToBIkSNbM\""
      ],
      "metadata": {
        "colab": {
          "base_uri": "https://localhost:8080/"
        },
        "id": "mMU6tXJKSVzW",
        "outputId": "051514bc-1ad3-4061-9e61-676bbe020393"
      },
      "execution_count": 7,
      "outputs": [
        {
          "output_type": "stream",
          "name": "stdout",
          "text": [
            "[youtube] Extracting URL: https://www.youtube.com/watch?v=ISToBIkSNbM\n",
            "[youtube] ISToBIkSNbM: Downloading webpage\n",
            "[youtube] ISToBIkSNbM: Downloading tv client config\n",
            "[youtube] ISToBIkSNbM: Downloading tv player API JSON\n",
            "[youtube] ISToBIkSNbM: Downloading ios player API JSON\n",
            "[youtube] ISToBIkSNbM: Downloading m3u8 information\n",
            "[info] Available formats for ISToBIkSNbM:\n",
            "\u001b[0;33mID\u001b[0m      \u001b[0;33mEXT\u001b[0m   \u001b[0;33mRESOLUTION\u001b[0m \u001b[0;33mFPS\u001b[0m \u001b[0;33mCH\u001b[0m \u001b[0;33m\u001b[0;34m│\u001b[0;33m\u001b[0m \u001b[0;33m  FILESIZE\u001b[0m \u001b[0;33m  TBR\u001b[0m \u001b[0;33mPROTO\u001b[0m \u001b[0;33m\u001b[0;34m│\u001b[0;33m\u001b[0m \u001b[0;33mVCODEC\u001b[0m        \u001b[0;33m  VBR\u001b[0m \u001b[0;33mACODEC\u001b[0m     \u001b[0;33m ABR\u001b[0m \u001b[0;33mASR\u001b[0m \u001b[0;33mMORE INFO\u001b[0m\n",
            "\u001b[0;34m─\u001b[0m\u001b[0;34m─\u001b[0m\u001b[0;34m─\u001b[0m\u001b[0;34m─\u001b[0m\u001b[0;34m─\u001b[0m\u001b[0;34m─\u001b[0m\u001b[0;34m─\u001b[0m\u001b[0;34m─\u001b[0m\u001b[0;34m─\u001b[0m\u001b[0;34m─\u001b[0m\u001b[0;34m─\u001b[0m\u001b[0;34m─\u001b[0m\u001b[0;34m─\u001b[0m\u001b[0;34m─\u001b[0m\u001b[0;34m─\u001b[0m\u001b[0;34m─\u001b[0m\u001b[0;34m─\u001b[0m\u001b[0;34m─\u001b[0m\u001b[0;34m─\u001b[0m\u001b[0;34m─\u001b[0m\u001b[0;34m─\u001b[0m\u001b[0;34m─\u001b[0m\u001b[0;34m─\u001b[0m\u001b[0;34m─\u001b[0m\u001b[0;34m─\u001b[0m\u001b[0;34m─\u001b[0m\u001b[0;34m─\u001b[0m\u001b[0;34m─\u001b[0m\u001b[0;34m─\u001b[0m\u001b[0;34m─\u001b[0m\u001b[0;34m─\u001b[0m\u001b[0;34m─\u001b[0m\u001b[0;34m─\u001b[0m\u001b[0;34m─\u001b[0m\u001b[0;34m─\u001b[0m\u001b[0;34m─\u001b[0m\u001b[0;34m─\u001b[0m\u001b[0;34m─\u001b[0m\u001b[0;34m─\u001b[0m\u001b[0;34m─\u001b[0m\u001b[0;34m─\u001b[0m\u001b[0;34m─\u001b[0m\u001b[0;34m─\u001b[0m\u001b[0;34m─\u001b[0m\u001b[0;34m─\u001b[0m\u001b[0;34m─\u001b[0m\u001b[0;34m─\u001b[0m\u001b[0;34m─\u001b[0m\u001b[0;34m─\u001b[0m\u001b[0;34m─\u001b[0m\u001b[0;34m─\u001b[0m\u001b[0;34m─\u001b[0m\u001b[0;34m─\u001b[0m\u001b[0;34m─\u001b[0m\u001b[0;34m─\u001b[0m\u001b[0;34m─\u001b[0m\u001b[0;34m─\u001b[0m\u001b[0;34m─\u001b[0m\u001b[0;34m─\u001b[0m\u001b[0;34m─\u001b[0m\u001b[0;34m─\u001b[0m\u001b[0;34m─\u001b[0m\u001b[0;34m─\u001b[0m\u001b[0;34m─\u001b[0m\u001b[0;34m─\u001b[0m\u001b[0;34m─\u001b[0m\u001b[0;34m─\u001b[0m\u001b[0;34m─\u001b[0m\u001b[0;34m─\u001b[0m\u001b[0;34m─\u001b[0m\u001b[0;34m─\u001b[0m\u001b[0;34m─\u001b[0m\u001b[0;34m─\u001b[0m\u001b[0;34m─\u001b[0m\u001b[0;34m─\u001b[0m\u001b[0;34m─\u001b[0m\u001b[0;34m─\u001b[0m\u001b[0;34m─\u001b[0m\u001b[0;34m─\u001b[0m\u001b[0;34m─\u001b[0m\u001b[0;34m─\u001b[0m\u001b[0;34m─\u001b[0m\u001b[0;34m─\u001b[0m\u001b[0;34m─\u001b[0m\u001b[0;34m─\u001b[0m\u001b[0;34m─\u001b[0m\u001b[0;34m─\u001b[0m\u001b[0;34m─\u001b[0m\u001b[0;34m─\u001b[0m\u001b[0;34m─\u001b[0m\u001b[0;34m─\u001b[0m\u001b[0;34m─\u001b[0m\u001b[0;34m─\u001b[0m\u001b[0;34m─\u001b[0m\u001b[0;34m─\u001b[0m\u001b[0;34m─\u001b[0m\u001b[0;34m─\u001b[0m\u001b[0;34m─\u001b[0m\u001b[0;34m─\u001b[0m\u001b[0;34m─\u001b[0m\u001b[0;34m─\u001b[0m\u001b[0;34m─\u001b[0m\u001b[0;34m─\u001b[0m\u001b[0;34m─\u001b[0m\u001b[0;34m─\u001b[0m\u001b[0;34m─\u001b[0m\u001b[0;34m─\u001b[0m\u001b[0;34m─\u001b[0m\u001b[0;34m─\u001b[0m\u001b[0;34m─\u001b[0m\u001b[0;34m─\u001b[0m\u001b[0;34m─\u001b[0m\u001b[0;34m─\u001b[0m\u001b[0;34m─\u001b[0m\u001b[0;34m─\u001b[0m\u001b[0;34m─\u001b[0m\u001b[0;34m─\u001b[0m\u001b[0;34m─\u001b[0m\u001b[0;34m─\u001b[0m\u001b[0;34m─\u001b[0m\u001b[0;34m─\u001b[0m\u001b[0;34m─\u001b[0m\u001b[0;34m─\u001b[0m\u001b[0;34m─\u001b[0m\u001b[0;34m─\u001b[0m\u001b[0;34m─\u001b[0m\n",
            "\u001b[0;32msb3\u001b[0m     mhtml 48x27        0    \u001b[0;34m│\u001b[0m                  mhtml \u001b[0;34m│\u001b[0m images                                  storyboard\n",
            "\u001b[0;32msb2\u001b[0m     mhtml 80x45        0    \u001b[0;34m│\u001b[0m                  mhtml \u001b[0;34m│\u001b[0m images                                  storyboard\n",
            "\u001b[0;32msb1\u001b[0m     mhtml 160x90       0    \u001b[0;34m│\u001b[0m                  mhtml \u001b[0;34m│\u001b[0m images                                  storyboard\n",
            "\u001b[0;32msb0\u001b[0m     mhtml 320x180      0    \u001b[0;34m│\u001b[0m                  mhtml \u001b[0;34m│\u001b[0m images                                  storyboard\n",
            "\u001b[0;32m233\u001b[0m     mp4   audio only        \u001b[0;34m│\u001b[0m                  m3u8  \u001b[0;34m│\u001b[0m \u001b[0;90maudio only\u001b[0m          unknown             [en] Default, low\n",
            "\u001b[0;32m234\u001b[0m     mp4   audio only        \u001b[0;34m│\u001b[0m                  m3u8  \u001b[0;34m│\u001b[0m \u001b[0;90maudio only\u001b[0m          unknown             [en] Default, high\n",
            "\u001b[0;32m249-drc\u001b[0m webm  audio only      2 \u001b[0;34m│\u001b[0m    6.39MiB   50k https \u001b[0;34m│\u001b[0m \u001b[0;90maudio only\u001b[0m          opus        50k 48k [en] low, DRC, webm_dash\n",
            "\u001b[0;32m250-drc\u001b[0m webm  audio only      2 \u001b[0;34m│\u001b[0m    8.36MiB   65k https \u001b[0;34m│\u001b[0m \u001b[0;90maudio only\u001b[0m          opus        65k 48k [en] low, DRC, webm_dash\n",
            "\u001b[0;32m249\u001b[0m     webm  audio only      2 \u001b[0;34m│\u001b[0m    6.34MiB   49k https \u001b[0;34m│\u001b[0m \u001b[0;90maudio only\u001b[0m          opus        49k 48k [en] low, webm_dash\n",
            "\u001b[0;32m250\u001b[0m     webm  audio only      2 \u001b[0;34m│\u001b[0m    8.28MiB   64k https \u001b[0;34m│\u001b[0m \u001b[0;90maudio only\u001b[0m          opus        64k 48k [en] low, webm_dash\n",
            "\u001b[0;32m140-drc\u001b[0m m4a   audio only      2 \u001b[0;34m│\u001b[0m   16.63MiB  129k https \u001b[0;34m│\u001b[0m \u001b[0;90maudio only\u001b[0m          mp4a.40.2  129k 44k [en] medium, DRC, m4a_dash\n",
            "\u001b[0;32m251-drc\u001b[0m webm  audio only      2 \u001b[0;34m│\u001b[0m   16.69MiB  130k https \u001b[0;34m│\u001b[0m \u001b[0;90maudio only\u001b[0m          opus       130k 48k [en] medium, DRC, webm_dash\n",
            "\u001b[0;32m140\u001b[0m     m4a   audio only      2 \u001b[0;34m│\u001b[0m   16.63MiB  129k https \u001b[0;34m│\u001b[0m \u001b[0;90maudio only\u001b[0m          mp4a.40.2  129k 44k [en] medium, m4a_dash\n",
            "\u001b[0;32m251\u001b[0m     webm  audio only      2 \u001b[0;34m│\u001b[0m   16.53MiB  129k https \u001b[0;34m│\u001b[0m \u001b[0;90maudio only\u001b[0m          opus       129k 48k [en] medium, webm_dash\n",
            "\u001b[0;32m269\u001b[0m     mp4   256x144     30    \u001b[0;34m│\u001b[0m \u001b[0;90m~ 21.52MiB\u001b[0m  168k m3u8  \u001b[0;34m│\u001b[0m avc1.4D400C    168k \u001b[0;90mvideo only\u001b[0m\n",
            "\u001b[0;32m160\u001b[0m     mp4   256x144     30    \u001b[0;34m│\u001b[0m    9.86MiB   77k https \u001b[0;34m│\u001b[0m avc1.4d400c     77k \u001b[0;90mvideo only\u001b[0m          144p, mp4_dash\n",
            "\u001b[0;32m603\u001b[0m     mp4   256x144     30    \u001b[0;34m│\u001b[0m \u001b[0;90m~ 20.55MiB\u001b[0m  160k m3u8  \u001b[0;34m│\u001b[0m vp09.00.11.08  160k \u001b[0;90mvideo only\u001b[0m\n",
            "\u001b[0;32m278\u001b[0m     webm  256x144     30    \u001b[0;34m│\u001b[0m   11.94MiB   93k https \u001b[0;34m│\u001b[0m vp9             93k \u001b[0;90mvideo only\u001b[0m          144p, webm_dash\n",
            "\u001b[0;32m394\u001b[0m     mp4   256x144     30    \u001b[0;34m│\u001b[0m    9.08MiB   71k https \u001b[0;34m│\u001b[0m av01.0.00M.08   71k \u001b[0;90mvideo only\u001b[0m          144p, mp4_dash\n",
            "\u001b[0;32m229\u001b[0m     mp4   426x240     30    \u001b[0;34m│\u001b[0m \u001b[0;90m~ 46.92MiB\u001b[0m  365k m3u8  \u001b[0;34m│\u001b[0m avc1.4D4015    365k \u001b[0;90mvideo only\u001b[0m\n",
            "\u001b[0;32m133\u001b[0m     mp4   426x240     30    \u001b[0;34m│\u001b[0m   22.38MiB  174k https \u001b[0;34m│\u001b[0m avc1.4d4015    174k \u001b[0;90mvideo only\u001b[0m          240p, mp4_dash\n",
            "\u001b[0;32m604\u001b[0m     mp4   426x240     30    \u001b[0;34m│\u001b[0m \u001b[0;90m~ 37.57MiB\u001b[0m  293k m3u8  \u001b[0;34m│\u001b[0m vp09.00.20.08  293k \u001b[0;90mvideo only\u001b[0m\n",
            "\u001b[0;32m242\u001b[0m     webm  426x240     30    \u001b[0;34m│\u001b[0m   25.24MiB  197k https \u001b[0;34m│\u001b[0m vp9            197k \u001b[0;90mvideo only\u001b[0m          240p, webm_dash\n",
            "\u001b[0;32m395\u001b[0m     mp4   426x240     30    \u001b[0;34m│\u001b[0m   17.63MiB  137k https \u001b[0;34m│\u001b[0m av01.0.00M.08  137k \u001b[0;90mvideo only\u001b[0m          240p, mp4_dash\n",
            "\u001b[0;32m230\u001b[0m     mp4   640x360     30    \u001b[0;34m│\u001b[0m \u001b[0;90m~118.36MiB\u001b[0m  922k m3u8  \u001b[0;34m│\u001b[0m avc1.4D401E    922k \u001b[0;90mvideo only\u001b[0m\n",
            "\u001b[0;32m134\u001b[0m     mp4   640x360     30    \u001b[0;34m│\u001b[0m   49.97MiB  389k https \u001b[0;34m│\u001b[0m avc1.4d401e    389k \u001b[0;90mvideo only\u001b[0m          360p, mp4_dash\n",
            "\u001b[0;32m18\u001b[0m      mp4   640x360     30  2 \u001b[0;34m│\u001b[0m ≈ 66.54MiB  518k https \u001b[0;34m│\u001b[0m avc1.42001E         mp4a.40.2       44k [en] 360p\n",
            "\u001b[0;32m605\u001b[0m     mp4   640x360     30    \u001b[0;34m│\u001b[0m \u001b[0;90m~ 74.47MiB\u001b[0m  580k m3u8  \u001b[0;34m│\u001b[0m vp09.00.21.08  580k \u001b[0;90mvideo only\u001b[0m\n",
            "\u001b[0;32m243\u001b[0m     webm  640x360     30    \u001b[0;34m│\u001b[0m   45.97MiB  358k https \u001b[0;34m│\u001b[0m vp9            358k \u001b[0;90mvideo only\u001b[0m          360p, webm_dash\n",
            "\u001b[0;32m396\u001b[0m     mp4   640x360     30    \u001b[0;34m│\u001b[0m   37.24MiB  290k https \u001b[0;34m│\u001b[0m av01.0.01M.08  290k \u001b[0;90mvideo only\u001b[0m          360p, mp4_dash\n",
            "\u001b[0;32m231\u001b[0m     mp4   854x480     30    \u001b[0;34m│\u001b[0m \u001b[0;90m~215.04MiB\u001b[0m 1675k m3u8  \u001b[0;34m│\u001b[0m avc1.4D401F   1675k \u001b[0;90mvideo only\u001b[0m\n",
            "\u001b[0;32m135\u001b[0m     mp4   854x480     30    \u001b[0;34m│\u001b[0m   82.05MiB  639k https \u001b[0;34m│\u001b[0m avc1.4d401f    639k \u001b[0;90mvideo only\u001b[0m          480p, mp4_dash\n",
            "\u001b[0;32m606\u001b[0m     mp4   854x480     30    \u001b[0;34m│\u001b[0m \u001b[0;90m~122.57MiB\u001b[0m  955k m3u8  \u001b[0;34m│\u001b[0m vp09.00.30.08  955k \u001b[0;90mvideo only\u001b[0m\n",
            "\u001b[0;32m244\u001b[0m     webm  854x480     30    \u001b[0;34m│\u001b[0m   81.06MiB  631k https \u001b[0;34m│\u001b[0m vp9            631k \u001b[0;90mvideo only\u001b[0m          480p, webm_dash\n",
            "\u001b[0;32m397\u001b[0m     mp4   854x480     30    \u001b[0;34m│\u001b[0m   69.63MiB  542k https \u001b[0;34m│\u001b[0m av01.0.04M.08  542k \u001b[0;90mvideo only\u001b[0m          480p, mp4_dash\n",
            "\u001b[0;32m136\u001b[0m     mp4   1280x720    30    \u001b[0;34m│\u001b[0m  561.05MiB 4368k https \u001b[0;34m│\u001b[0m avc1.4d401f   4368k \u001b[0;90mvideo only\u001b[0m          720p, mp4_dash\n",
            "\u001b[0;32m247\u001b[0m     webm  1280x720    30    \u001b[0;34m│\u001b[0m  171.24MiB 1333k https \u001b[0;34m│\u001b[0m vp9           1333k \u001b[0;90mvideo only\u001b[0m          720p, webm_dash\n",
            "\u001b[0;32m311\u001b[0m     mp4   1280x720    60    \u001b[0;34m│\u001b[0m \u001b[0;90m~481.01MiB\u001b[0m 3747k m3u8  \u001b[0;34m│\u001b[0m avc1.4D4020   3747k \u001b[0;90mvideo only\u001b[0m\n",
            "\u001b[0;32m298\u001b[0m     mp4   1280x720    60    \u001b[0;34m│\u001b[0m  187.49MiB 1460k https \u001b[0;34m│\u001b[0m avc1.4d4020   1460k \u001b[0;90mvideo only\u001b[0m          720p60, mp4_dash\n",
            "\u001b[0;32m612\u001b[0m     mp4   1280x720    60    \u001b[0;34m│\u001b[0m \u001b[0;90m~435.41MiB\u001b[0m 3391k m3u8  \u001b[0;34m│\u001b[0m vp09.00.40.08 3391k \u001b[0;90mvideo only\u001b[0m\n",
            "\u001b[0;32m302\u001b[0m     webm  1280x720    60    \u001b[0;34m│\u001b[0m  264.84MiB 2062k https \u001b[0;34m│\u001b[0m vp9           2062k \u001b[0;90mvideo only\u001b[0m          720p60, webm_dash\n",
            "\u001b[0;32m398\u001b[0m     mp4   1280x720    60    \u001b[0;34m│\u001b[0m  230.77MiB 1797k https \u001b[0;34m│\u001b[0m av01.0.08M.08 1797k \u001b[0;90mvideo only\u001b[0m          720p60, mp4_dash\n",
            "\u001b[0;32m312\u001b[0m     mp4   1920x1080   60    \u001b[0;34m│\u001b[0m \u001b[0;90m~  1.20GiB\u001b[0m 9534k m3u8  \u001b[0;34m│\u001b[0m avc1.64002A   9534k \u001b[0;90mvideo only\u001b[0m\n",
            "\u001b[0;32m299\u001b[0m     mp4   1920x1080   60    \u001b[0;34m│\u001b[0m  589.03MiB 4586k https \u001b[0;34m│\u001b[0m avc1.64002a   4586k \u001b[0;90mvideo only\u001b[0m          1080p60, mp4_dash\n",
            "\u001b[0;32m617\u001b[0m     mp4   1920x1080   60    \u001b[0;34m│\u001b[0m \u001b[0;90m~  1.01GiB\u001b[0m 8041k m3u8  \u001b[0;34m│\u001b[0m vp09.00.41.08 8041k \u001b[0;90mvideo only\u001b[0m\n",
            "\u001b[0;32m303\u001b[0m     webm  1920x1080   60    \u001b[0;34m│\u001b[0m  520.57MiB 4053k https \u001b[0;34m│\u001b[0m vp9           4053k \u001b[0;90mvideo only\u001b[0m          1080p60, webm_dash\n",
            "\u001b[0;32m399\u001b[0m     mp4   1920x1080   60    \u001b[0;34m│\u001b[0m  448.17MiB 3489k https \u001b[0;34m│\u001b[0m av01.0.09M.08 3489k \u001b[0;90mvideo only\u001b[0m          1080p60, mp4_dash\n"
          ]
        }
      ]
    },
    {
      "cell_type": "markdown",
      "source": [
        "## testing"
      ],
      "metadata": {
        "id": "5VKwqc_GvriR"
      }
    },
    {
      "cell_type": "code",
      "source": [
        "# downloading low quality for test\n",
        "\n",
        "ydl_opts = {\n",
        "    'format': '394+140',  # 1080p video + good m4a audio\n",
        "    'outtmpl': 'test_video.mp4',\n",
        "    'merge_output_format': 'mp4'\n",
        "}\n",
        "with yt_dlp.YoutubeDL(ydl_opts) as ydl:\n",
        "    ydl.download([\"https://www.youtube.com/watch?v=ISToBIkSNbM\"])\n"
      ],
      "metadata": {
        "colab": {
          "base_uri": "https://localhost:8080/"
        },
        "id": "cf1HBN7ZwTIs",
        "outputId": "8297840c-68fe-4787-dab7-66fdfccdd62f"
      },
      "execution_count": 12,
      "outputs": [
        {
          "output_type": "stream",
          "name": "stdout",
          "text": [
            "[youtube] Extracting URL: https://www.youtube.com/watch?v=ISToBIkSNbM\n",
            "[youtube] ISToBIkSNbM: Downloading webpage\n",
            "[youtube] ISToBIkSNbM: Downloading tv client config\n",
            "[youtube] ISToBIkSNbM: Downloading tv player API JSON\n",
            "[youtube] ISToBIkSNbM: Downloading ios player API JSON\n",
            "[youtube] ISToBIkSNbM: Downloading m3u8 information\n",
            "[info] ISToBIkSNbM: Downloading 1 format(s): 394+140\n",
            "[download] test_video.mp4 has already been downloaded\n"
          ]
        }
      ]
    },
    {
      "cell_type": "code",
      "source": [
        "import subprocess\n",
        "\n",
        "# Replace audio using ffmpeg\n",
        "subprocess.call([\n",
        "    'ffmpeg', '-y',\n",
        "    '-i', 'test_video.mp4',\n",
        "    '-i', 'final_mixed_audio.wav',\n",
        "    '-c:v', 'copy',           # Copy video without re-encoding\n",
        "    '-map', '0:v:0',          # Use video from first input\n",
        "    '-map', '1:a:0',          # Use audio from second input\n",
        "    '-shortest',              # Trim to shorter of video or audio\n",
        "    'test_video_with_new_audio.mp4'\n",
        "])"
      ],
      "metadata": {
        "colab": {
          "base_uri": "https://localhost:8080/"
        },
        "id": "bTkfO33MvcS6",
        "outputId": "21050cd5-c38a-4b64-c714-7a98d71557cd"
      },
      "execution_count": 13,
      "outputs": [
        {
          "output_type": "execute_result",
          "data": {
            "text/plain": [
              "0"
            ]
          },
          "metadata": {},
          "execution_count": 13
        }
      ]
    },
    {
      "cell_type": "markdown",
      "source": [
        "## mixing high quality video and dubbed audio"
      ],
      "metadata": {
        "id": "MDvBztL9vv_H"
      }
    },
    {
      "cell_type": "code",
      "source": [
        "ydl_opts = {\n",
        "    'format': '299+140',  # 1080p video + good m4a audio\n",
        "    'outtmpl': 'video_1080p.mp4',\n",
        "    'merge_output_format': 'mp4'\n",
        "}\n",
        "with yt_dlp.YoutubeDL(ydl_opts) as ydl:\n",
        "    ydl.download([\"https://www.youtube.com/watch?v=ISToBIkSNbM\"])\n"
      ],
      "metadata": {
        "colab": {
          "base_uri": "https://localhost:8080/"
        },
        "id": "OIYgFqowToYO",
        "outputId": "3436decb-e1c0-44da-d918-f753c0470c71"
      },
      "execution_count": 14,
      "outputs": [
        {
          "output_type": "stream",
          "name": "stdout",
          "text": [
            "[youtube] Extracting URL: https://www.youtube.com/watch?v=ISToBIkSNbM\n",
            "[youtube] ISToBIkSNbM: Downloading webpage\n",
            "[youtube] ISToBIkSNbM: Downloading tv client config\n",
            "[youtube] ISToBIkSNbM: Downloading tv player API JSON\n",
            "[youtube] ISToBIkSNbM: Downloading ios player API JSON\n",
            "[youtube] ISToBIkSNbM: Downloading m3u8 information\n",
            "[info] ISToBIkSNbM: Downloading 1 format(s): 299+140\n",
            "[download] Destination: video_1080p.f299.mp4\n",
            "[download] 100% of  589.03MiB in 00:00:09 at 59.65MiB/s  \n",
            "[download] Destination: video_1080p.f140.m4a\n",
            "[download] 100% of   16.63MiB in 00:00:00 at 50.73MiB/s  \n",
            "[Merger] Merging formats into \"video_1080p.mp4\"\n",
            "Deleting original file video_1080p.f299.mp4 (pass -k to keep)\n",
            "Deleting original file video_1080p.f140.m4a (pass -k to keep)\n"
          ]
        }
      ]
    },
    {
      "cell_type": "code",
      "source": [
        "from yt_dlp import YoutubeDL\n",
        "\n",
        "youtube_url = \"https://www.youtube.com/watch?v=ISToBIkSNbM\"\n",
        "video_filename = \"original_video.mp4\"\n",
        "\n",
        "ydl_opts = {\n",
        "    'format': 'bestvideo[ext=mp4]+bestaudio[ext=m4a]/mp4',\n",
        "    'outtmpl': video_filename,\n",
        "    'merge_output_format': 'mp4'\n",
        "}\n",
        "\n",
        "with YoutubeDL(ydl_opts) as ydl:\n",
        "    ydl.download([youtube_url])\n"
      ],
      "metadata": {
        "id": "1Z0ZkewPRrN0"
      },
      "execution_count": null,
      "outputs": []
    },
    {
      "cell_type": "code",
      "source": [
        "import subprocess\n",
        "\n",
        "# Replace audio using ffmpeg\n",
        "subprocess.call([\n",
        "    'ffmpeg', '-y',\n",
        "    '-i', 'video_1080p.mp4',\n",
        "    '-i', 'final_mixed_audio.wav',\n",
        "    '-c:v', 'copy',           # Copy video without re-encoding\n",
        "    '-map', '0:v:0',          # Use video from first input\n",
        "    '-map', '1:a:0',          # Use audio from second input\n",
        "    '-shortest',              # Trim to shorter of video or audio\n",
        "    'dubbed_video.mp4'\n",
        "])\n"
      ],
      "metadata": {
        "colab": {
          "base_uri": "https://localhost:8080/"
        },
        "id": "Anmc-zJqRsTl",
        "outputId": "b9ef48da-acbf-420b-e30b-3894a43ec713"
      },
      "execution_count": 15,
      "outputs": [
        {
          "output_type": "execute_result",
          "data": {
            "text/plain": [
              "0"
            ]
          },
          "metadata": {},
          "execution_count": 15
        }
      ]
    },
    {
      "cell_type": "markdown",
      "source": [
        "## upload result to google drive"
      ],
      "metadata": {
        "id": "AHgusTfhx6nC"
      }
    },
    {
      "cell_type": "code",
      "source": [
        "import shutil\n",
        "\n",
        "source_path = \"/content/dubbed_video.mp4\"\n",
        "destination_path = \"/content/drive/MyDrive/dubbed_video.mp4\"\n",
        "shutil.copy(source_path, destination_path)\n",
        "\n",
        "\n",
        "\n",
        "print(\"✅ File copied from Google Drive.\")"
      ],
      "metadata": {
        "colab": {
          "base_uri": "https://localhost:8080/"
        },
        "id": "8OFdKR99x3TO",
        "outputId": "fd6a3f6c-0962-48e2-e393-5d4003e58413"
      },
      "execution_count": 17,
      "outputs": [
        {
          "output_type": "stream",
          "name": "stdout",
          "text": [
            "✅ File copied from Google Drive.\n"
          ]
        }
      ]
    }
  ]
}