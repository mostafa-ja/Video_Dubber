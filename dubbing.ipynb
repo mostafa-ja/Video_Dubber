{
  "nbformat": 4,
  "nbformat_minor": 0,
  "metadata": {
    "colab": {
      "provenance": [],
      "collapsed_sections": [
        "0_uGYFM1tWwR"
      ],
      "mount_file_id": "1vFi_w7Aw9Lsvuhbwx02E8Q-4QOaH2okz",
      "authorship_tag": "ABX9TyNEdjZ2RWi0gqS/V60AtNvA",
      "include_colab_link": true
    },
    "kernelspec": {
      "name": "python3",
      "display_name": "Python 3"
    },
    "language_info": {
      "name": "python"
    }
  },
  "cells": [
    {
      "cell_type": "markdown",
      "metadata": {
        "id": "view-in-github",
        "colab_type": "text"
      },
      "source": [
        "<a href=\"https://colab.research.google.com/github/mostafa-ja/Video_Dubber/blob/main/dubbing.ipynb\" target=\"_parent\"><img src=\"https://colab.research.google.com/assets/colab-badge.svg\" alt=\"Open In Colab\"/></a>"
      ]
    },
    {
      "cell_type": "code",
      "source": [
        "!pip install ffmpeg pysrt yt-dlp\n"
      ],
      "metadata": {
        "id": "F-NEJWg0QLPj"
      },
      "execution_count": null,
      "outputs": []
    },
    {
      "cell_type": "markdown",
      "source": [
        "# Combine original and dubbed audio"
      ],
      "metadata": {
        "id": "muO0KsnypA4i"
      }
    },
    {
      "cell_type": "markdown",
      "source": [
        "## # upload dubbed audio"
      ],
      "metadata": {
        "id": "tTTMJeRJpUuQ"
      }
    },
    {
      "cell_type": "code",
      "source": [
        "import shutil\n",
        "\n",
        "# dubbed audio\n",
        "source_path = \"/content/drive/MyDrive/dub/combined_audio.wav\"\n",
        "destination_path = \"/content/combined_audio.wav\"\n",
        "shutil.copy(source_path, destination_path)\n",
        "\n",
        "# translated srt\n",
        "source_path = \"/content/drive/MyDrive/dub/translated.srt\"\n",
        "destination_path = \"/content/translated.srt\"\n",
        "shutil.copy(source_path, destination_path)\n",
        "\n",
        "\n",
        "print(\"✅ Files copied from Google Drive.\")"
      ],
      "metadata": {
        "colab": {
          "base_uri": "https://localhost:8080/"
        },
        "id": "YvoS1Q2OQzO2",
        "outputId": "8d76afa8-2342-4f83-c3a4-e107cd54cc42"
      },
      "execution_count": 18,
      "outputs": [
        {
          "output_type": "stream",
          "name": "stdout",
          "text": [
            "✅ Files copied from Google Drive.\n"
          ]
        }
      ]
    },
    {
      "cell_type": "markdown",
      "source": [
        "## extract original audio"
      ],
      "metadata": {
        "id": "EkI4meB3pWpx"
      }
    },
    {
      "cell_type": "code",
      "source": [
        "import yt_dlp\n",
        "import os\n",
        "\n",
        "youtube_url = \"https://www.youtube.com/watch?v=cG4aYsvgchA\"\n",
        "output_path=\"audio\"\n",
        "\n",
        "ydl_opts = {\n",
        "    'format': 'bestaudio/best',\n",
        "    'outtmpl': output_path,\n",
        "    'postprocessors': [{\n",
        "        'key': 'FFmpegExtractAudio',\n",
        "        'preferredcodec': 'wav',\n",
        "    }],\n",
        "    'quiet': False\n",
        "}\n",
        "\n",
        "with yt_dlp.YoutubeDL(ydl_opts) as ydl:\n",
        "    ydl.download([youtube_url])"
      ],
      "metadata": {
        "colab": {
          "base_uri": "https://localhost:8080/"
        },
        "id": "Y6cgwg1_QixP",
        "outputId": "357a233a-58a2-4383-88d9-0e5c4bf224a5"
      },
      "execution_count": 3,
      "outputs": [
        {
          "output_type": "stream",
          "name": "stdout",
          "text": [
            "[youtube] Extracting URL: https://www.youtube.com/watch?v=cG4aYsvgchA\n",
            "[youtube] cG4aYsvgchA: Downloading webpage\n",
            "[youtube] cG4aYsvgchA: Downloading tv client config\n",
            "[youtube] cG4aYsvgchA: Downloading player 612f74a3-main\n",
            "[youtube] cG4aYsvgchA: Downloading tv player API JSON\n",
            "[youtube] cG4aYsvgchA: Downloading ios player API JSON\n",
            "[youtube] cG4aYsvgchA: Downloading m3u8 information\n",
            "[info] cG4aYsvgchA: Downloading 1 format(s): 251\n",
            "[download] Destination: audio\n",
            "[download] 100% of   12.24MiB in 00:00:00 at 18.73MiB/s  \n",
            "[ExtractAudio] Destination: audio.wav\n",
            "Deleting original file audio (pass -k to keep)\n"
          ]
        }
      ]
    },
    {
      "cell_type": "markdown",
      "source": [
        "## mix audios"
      ],
      "metadata": {
        "id": "fbRyQTWepa5Y"
      }
    },
    {
      "cell_type": "markdown",
      "source": [
        "## mixing based on silence times"
      ],
      "metadata": {
        "id": "0_uGYFM1tWwR"
      }
    },
    {
      "cell_type": "code",
      "execution_count": null,
      "metadata": {
        "colab": {
          "base_uri": "https://localhost:8080/"
        },
        "id": "HushH5pvPQ9x",
        "outputId": "49d4b137-7ca8-4199-b68c-f519e3b0b794"
      },
      "outputs": [
        {
          "output_type": "stream",
          "name": "stdout",
          "text": [
            "✅ Saved as 'final_mixed_audio.wav'\n",
            "🎧 Saved as 'final_mixed_audio.mp3'\n"
          ]
        }
      ],
      "source": [
        "from pydub import AudioSegment, silence\n",
        "import os\n",
        "\n",
        "# === Load audio files ===\n",
        "speech = AudioSegment.from_wav(\"combined_audio.wav\")\n",
        "bg = AudioSegment.from_file(\"audio.wav\")  # Works for .mp3, .wav, etc.\n",
        "\n",
        "# === Ensure background is long enough ===\n",
        "if len(bg) < len(speech):\n",
        "    bg *= ((len(speech) // len(bg)) + 1)\n",
        "#bg = bg[:len(speech)]\n",
        "\n",
        "# === Detect non-silent parts of speech ===\n",
        "nonsilent_ranges = silence.detect_nonsilent(\n",
        "    speech,\n",
        "    min_silence_len=200,\n",
        "    silence_thresh=speech.dBFS - 16\n",
        ")\n",
        "\n",
        "# === Volume settings ===\n",
        "speech_gain = 5\n",
        "bg_quiet_gain = -20  # Lower volume during speech\n",
        "fade_duration = 1000  # in ms, for fade in/out\n",
        "\n",
        "# === Start with background as base ===\n",
        "output = bg\n",
        "\n",
        "# === Process each speech segment ===\n",
        "for start, end in nonsilent_ranges:\n",
        "    # Apply fades to background and mix with speech\n",
        "    speech_chunk = speech[start:end] + speech_gain\n",
        "    bg_chunk = bg[start:end] + bg_quiet_gain\n",
        "\n",
        "    # Add fade-in and fade-out for smoother transitions\n",
        "    #speech_chunk = speech_chunk.fade_in(fade_duration).fade_out(fade_duration)\n",
        "    bg_chunk = bg_chunk.fade_in(fade_duration).fade_out(fade_duration)\n",
        "\n",
        "    mixed = bg_chunk.overlay(speech_chunk)\n",
        "\n",
        "    # Replace that portion in output\n",
        "    output = output[:start] + mixed + output[end:]\n",
        "\n",
        "# === Export as WAV ===\n",
        "output.export(\"final_mixed_audio.wav\", format=\"wav\")\n",
        "print(\"✅ Saved as 'final_mixed_audio.wav'\")\n",
        "\n",
        "# === Export as MP3 (compressed) ===\n",
        "output.export(\"final_mixed_audio.mp3\", format=\"mp3\", bitrate=\"192k\")\n",
        "print(\"🎧 Saved as 'final_mixed_audio.mp3'\")\n"
      ]
    },
    {
      "cell_type": "markdown",
      "source": [
        "## mixing based on subtitle times"
      ],
      "metadata": {
        "id": "Icz5tEcMtbyn"
      }
    },
    {
      "cell_type": "code",
      "source": [
        "from pydub.silence import detect_silence\n",
        "from pydub import AudioSegment, silence\n",
        "import pysrt\n",
        "import os\n",
        "\n",
        "# === Load audio files ===\n",
        "speech = AudioSegment.from_wav(\"combined_audio.wav\")\n",
        "bg = AudioSegment.from_file(\"audio.wav\")  # Works for .mp3, .wav, etc.\n",
        "\n",
        "# === Load subtitles ===\n",
        "subs = pysrt.open('translated.srt', encoding='utf-8')\n",
        "\n",
        "# === Ensure background is long enough ===\n",
        "if len(bg) < len(speech):\n",
        "    bg *= ((len(speech) // len(bg)) + 1)\n",
        "bg = bg[:len(speech)]\n",
        "\n",
        "# === Volume settings ===\n",
        "speech_gain = 0\n",
        "bg_quiet_gain = -20  # Lower volume during speech\n",
        "fade_duration = 1000  # in ms, for fade in/out\n",
        "\n",
        "# === Start with background as base ===\n",
        "output = bg\n",
        "\n",
        "# === Process each speech segment ===\n",
        "for i, sub in enumerate(subs):\n",
        "\n",
        "    # Time window in ms\n",
        "    start = (sub.start.hours * 3600 + sub.start.minutes * 60 + sub.start.seconds) * 1000 + sub.start.milliseconds\n",
        "    end = (sub.end.hours * 3600 + sub.end.minutes * 60 + sub.end.seconds) * 1000 + sub.end.milliseconds\n",
        "    time_window = end - start\n",
        "\n",
        "    # Extract chunks\n",
        "    speech_chunk = speech[start:end] + speech_gain\n",
        "    bg_chunk = bg[start:end] + bg_quiet_gain\n",
        "    original_bg_chunk = bg[start:end]  # Unaltered volume\n",
        "\n",
        "    # === Detect silence at end ===\n",
        "    silence_ranges = detect_silence(speech_chunk, min_silence_len=600, silence_thresh=speech_chunk.dBFS - 16)\n",
        "\n",
        "    trailing_silence_start = None\n",
        "    if silence_ranges:\n",
        "        # Check if the last silence overlaps the end\n",
        "        last_silence = silence_ranges[-1]\n",
        "        if last_silence[1] >= len(speech_chunk) - 200:  # We're checking whether the last silence ends very close to the end of the chunk — specifically, within the last 200 milliseconds.\n",
        "            trailing_silence_start = last_silence[0]\n",
        "\n",
        "\n",
        "    if trailing_silence_start:\n",
        "        # Split into active and trailing silence\n",
        "        active_speech = speech_chunk[:trailing_silence_start]\n",
        "        trailing_silence = speech_chunk[trailing_silence_start:]\n",
        "\n",
        "        # Background for each\n",
        "        active_bg = bg_chunk[:trailing_silence_start]\n",
        "        trailing_bg = original_bg_chunk[trailing_silence_start:]\n",
        "\n",
        "        # Apply fades\n",
        "        active_bg = active_bg.fade_in(fade_duration).fade_out(fade_duration)\n",
        "        trailing_bg = trailing_bg.fade_in(fade_duration)\n",
        "\n",
        "        # Overlay\n",
        "        mixed = active_bg.overlay(active_speech) + trailing_bg.overlay(trailing_silence)\n",
        "    else:\n",
        "        # No trailing silence — treat whole as active speech\n",
        "        bg_chunk = bg_chunk.fade_in(fade_duration).fade_out(fade_duration)\n",
        "        mixed = bg_chunk.overlay(speech_chunk)\n",
        "\n",
        "    # Replace that portion in output\n",
        "    output = output[:start] + mixed + output[end:]\n",
        "\n",
        "\n",
        "# === Export as WAV ===\n",
        "output.export(\"final_mixed_audio.wav\", format=\"wav\")\n",
        "print(\"✅ Saved as 'final_mixed_audio.wav'\")\n",
        "\n",
        "# === Export as MP3 (compressed) ===\n",
        "output.export(\"final_dubbed_audio.mp3\", format=\"mp3\", bitrate=\"192k\")\n",
        "print(\"🎧 Saved as 'final_dubbed_audio.mp3'\")\n"
      ],
      "metadata": {
        "colab": {
          "base_uri": "https://localhost:8080/"
        },
        "id": "iGxaOm18uqjW",
        "outputId": "f0f3326e-a35e-4090-dca0-b63414607e26"
      },
      "execution_count": 43,
      "outputs": [
        {
          "output_type": "stream",
          "name": "stdout",
          "text": [
            "✅ Saved as 'final_mixed_audio.wav'\n",
            "🎧 Saved as 'final_dubbed_audio.mp3'\n"
          ]
        }
      ]
    },
    {
      "cell_type": "markdown",
      "source": [
        "# Download video"
      ],
      "metadata": {
        "id": "PY0gaL1Pt5R7"
      }
    },
    {
      "cell_type": "code",
      "source": [
        "# checking qualities\n",
        "!yt-dlp -F \"{youtube_url}\""
      ],
      "metadata": {
        "colab": {
          "base_uri": "https://localhost:8080/"
        },
        "id": "mMU6tXJKSVzW",
        "outputId": "7371a3af-3c3e-427b-e28a-44bf944ebbd0"
      },
      "execution_count": 63,
      "outputs": [
        {
          "output_type": "stream",
          "name": "stdout",
          "text": [
            "[youtube] Extracting URL: https://www.youtube.com/watch?v=cG4aYsvgchA\n",
            "[youtube] cG4aYsvgchA: Downloading webpage\n",
            "[youtube] cG4aYsvgchA: Downloading tv client config\n",
            "[youtube] cG4aYsvgchA: Downloading tv player API JSON\n",
            "[youtube] cG4aYsvgchA: Downloading ios player API JSON\n",
            "[youtube] cG4aYsvgchA: Downloading m3u8 information\n",
            "[info] Available formats for cG4aYsvgchA:\n",
            "\u001b[0;33mID\u001b[0m      \u001b[0;33mEXT\u001b[0m   \u001b[0;33mRESOLUTION\u001b[0m \u001b[0;33mFPS\u001b[0m \u001b[0;33mCH\u001b[0m \u001b[0;33m\u001b[0;34m│\u001b[0;33m\u001b[0m \u001b[0;33m  FILESIZE\u001b[0m \u001b[0;33m  TBR\u001b[0m \u001b[0;33mPROTO\u001b[0m \u001b[0;33m\u001b[0;34m│\u001b[0;33m\u001b[0m \u001b[0;33mVCODEC\u001b[0m        \u001b[0;33m  VBR\u001b[0m \u001b[0;33mACODEC\u001b[0m     \u001b[0;33m ABR\u001b[0m \u001b[0;33mASR\u001b[0m \u001b[0;33mMORE INFO\u001b[0m\n",
            "\u001b[0;34m─\u001b[0m\u001b[0;34m─\u001b[0m\u001b[0;34m─\u001b[0m\u001b[0;34m─\u001b[0m\u001b[0;34m─\u001b[0m\u001b[0;34m─\u001b[0m\u001b[0;34m─\u001b[0m\u001b[0;34m─\u001b[0m\u001b[0;34m─\u001b[0m\u001b[0;34m─\u001b[0m\u001b[0;34m─\u001b[0m\u001b[0;34m─\u001b[0m\u001b[0;34m─\u001b[0m\u001b[0;34m─\u001b[0m\u001b[0;34m─\u001b[0m\u001b[0;34m─\u001b[0m\u001b[0;34m─\u001b[0m\u001b[0;34m─\u001b[0m\u001b[0;34m─\u001b[0m\u001b[0;34m─\u001b[0m\u001b[0;34m─\u001b[0m\u001b[0;34m─\u001b[0m\u001b[0;34m─\u001b[0m\u001b[0;34m─\u001b[0m\u001b[0;34m─\u001b[0m\u001b[0;34m─\u001b[0m\u001b[0;34m─\u001b[0m\u001b[0;34m─\u001b[0m\u001b[0;34m─\u001b[0m\u001b[0;34m─\u001b[0m\u001b[0;34m─\u001b[0m\u001b[0;34m─\u001b[0m\u001b[0;34m─\u001b[0m\u001b[0;34m─\u001b[0m\u001b[0;34m─\u001b[0m\u001b[0;34m─\u001b[0m\u001b[0;34m─\u001b[0m\u001b[0;34m─\u001b[0m\u001b[0;34m─\u001b[0m\u001b[0;34m─\u001b[0m\u001b[0;34m─\u001b[0m\u001b[0;34m─\u001b[0m\u001b[0;34m─\u001b[0m\u001b[0;34m─\u001b[0m\u001b[0;34m─\u001b[0m\u001b[0;34m─\u001b[0m\u001b[0;34m─\u001b[0m\u001b[0;34m─\u001b[0m\u001b[0;34m─\u001b[0m\u001b[0;34m─\u001b[0m\u001b[0;34m─\u001b[0m\u001b[0;34m─\u001b[0m\u001b[0;34m─\u001b[0m\u001b[0;34m─\u001b[0m\u001b[0;34m─\u001b[0m\u001b[0;34m─\u001b[0m\u001b[0;34m─\u001b[0m\u001b[0;34m─\u001b[0m\u001b[0;34m─\u001b[0m\u001b[0;34m─\u001b[0m\u001b[0;34m─\u001b[0m\u001b[0;34m─\u001b[0m\u001b[0;34m─\u001b[0m\u001b[0;34m─\u001b[0m\u001b[0;34m─\u001b[0m\u001b[0;34m─\u001b[0m\u001b[0;34m─\u001b[0m\u001b[0;34m─\u001b[0m\u001b[0;34m─\u001b[0m\u001b[0;34m─\u001b[0m\u001b[0;34m─\u001b[0m\u001b[0;34m─\u001b[0m\u001b[0;34m─\u001b[0m\u001b[0;34m─\u001b[0m\u001b[0;34m─\u001b[0m\u001b[0;34m─\u001b[0m\u001b[0;34m─\u001b[0m\u001b[0;34m─\u001b[0m\u001b[0;34m─\u001b[0m\u001b[0;34m─\u001b[0m\u001b[0;34m─\u001b[0m\u001b[0;34m─\u001b[0m\u001b[0;34m─\u001b[0m\u001b[0;34m─\u001b[0m\u001b[0;34m─\u001b[0m\u001b[0;34m─\u001b[0m\u001b[0;34m─\u001b[0m\u001b[0;34m─\u001b[0m\u001b[0;34m─\u001b[0m\u001b[0;34m─\u001b[0m\u001b[0;34m─\u001b[0m\u001b[0;34m─\u001b[0m\u001b[0;34m─\u001b[0m\u001b[0;34m─\u001b[0m\u001b[0;34m─\u001b[0m\u001b[0;34m─\u001b[0m\u001b[0;34m─\u001b[0m\u001b[0;34m─\u001b[0m\u001b[0;34m─\u001b[0m\u001b[0;34m─\u001b[0m\u001b[0;34m─\u001b[0m\u001b[0;34m─\u001b[0m\u001b[0;34m─\u001b[0m\u001b[0;34m─\u001b[0m\u001b[0;34m─\u001b[0m\u001b[0;34m─\u001b[0m\u001b[0;34m─\u001b[0m\u001b[0;34m─\u001b[0m\u001b[0;34m─\u001b[0m\u001b[0;34m─\u001b[0m\u001b[0;34m─\u001b[0m\u001b[0;34m─\u001b[0m\u001b[0;34m─\u001b[0m\u001b[0;34m─\u001b[0m\u001b[0;34m─\u001b[0m\u001b[0;34m─\u001b[0m\u001b[0;34m─\u001b[0m\u001b[0;34m─\u001b[0m\u001b[0;34m─\u001b[0m\u001b[0;34m─\u001b[0m\u001b[0;34m─\u001b[0m\u001b[0;34m─\u001b[0m\u001b[0;34m─\u001b[0m\u001b[0;34m─\u001b[0m\u001b[0;34m─\u001b[0m\u001b[0;34m─\u001b[0m\n",
            "\u001b[0;32msb3\u001b[0m     mhtml 48x27        0    \u001b[0;34m│\u001b[0m                  mhtml \u001b[0;34m│\u001b[0m images                                  storyboard\n",
            "\u001b[0;32msb2\u001b[0m     mhtml 80x45        0    \u001b[0;34m│\u001b[0m                  mhtml \u001b[0;34m│\u001b[0m images                                  storyboard\n",
            "\u001b[0;32msb1\u001b[0m     mhtml 160x90       0    \u001b[0;34m│\u001b[0m                  mhtml \u001b[0;34m│\u001b[0m images                                  storyboard\n",
            "\u001b[0;32msb0\u001b[0m     mhtml 320x180      0    \u001b[0;34m│\u001b[0m                  mhtml \u001b[0;34m│\u001b[0m images                                  storyboard\n",
            "\u001b[0;32m233\u001b[0m     mp4   audio only        \u001b[0;34m│\u001b[0m                  m3u8  \u001b[0;34m│\u001b[0m \u001b[0;90maudio only\u001b[0m          unknown             [en] Default, low\n",
            "\u001b[0;32m234\u001b[0m     mp4   audio only        \u001b[0;34m│\u001b[0m                  m3u8  \u001b[0;34m│\u001b[0m \u001b[0;90maudio only\u001b[0m          unknown             [en] Default, high\n",
            "\u001b[0;32m249-drc\u001b[0m webm  audio only      2 \u001b[0;34m│\u001b[0m    4.74MiB   51k https \u001b[0;34m│\u001b[0m \u001b[0;90maudio only\u001b[0m          opus        51k 48k [en] low, DRC, webm_dash\n",
            "\u001b[0;32m250-drc\u001b[0m webm  audio only      2 \u001b[0;34m│\u001b[0m    6.19MiB   66k https \u001b[0;34m│\u001b[0m \u001b[0;90maudio only\u001b[0m          opus        66k 48k [en] low, DRC, webm_dash\n",
            "\u001b[0;32m249\u001b[0m     webm  audio only      2 \u001b[0;34m│\u001b[0m    4.73MiB   51k https \u001b[0;34m│\u001b[0m \u001b[0;90maudio only\u001b[0m          opus        51k 48k [en] low, webm_dash\n",
            "\u001b[0;32m250\u001b[0m     webm  audio only      2 \u001b[0;34m│\u001b[0m    6.19MiB   66k https \u001b[0;34m│\u001b[0m \u001b[0;90maudio only\u001b[0m          opus        66k 48k [en] low, webm_dash\n",
            "\u001b[0;32m140-drc\u001b[0m m4a   audio only      2 \u001b[0;34m│\u001b[0m   12.11MiB  129k https \u001b[0;34m│\u001b[0m \u001b[0;90maudio only\u001b[0m          mp4a.40.2  129k 44k [en] medium, DRC, m4a_dash\n",
            "\u001b[0;32m251-drc\u001b[0m webm  audio only      2 \u001b[0;34m│\u001b[0m   12.24MiB  131k https \u001b[0;34m│\u001b[0m \u001b[0;90maudio only\u001b[0m          opus       131k 48k [en] medium, DRC, webm_dash\n",
            "\u001b[0;32m140\u001b[0m     m4a   audio only      2 \u001b[0;34m│\u001b[0m   12.11MiB  129k https \u001b[0;34m│\u001b[0m \u001b[0;90maudio only\u001b[0m          mp4a.40.2  129k 44k [en] medium, m4a_dash\n",
            "\u001b[0;32m251\u001b[0m     webm  audio only      2 \u001b[0;34m│\u001b[0m   12.24MiB  131k https \u001b[0;34m│\u001b[0m \u001b[0;90maudio only\u001b[0m          opus       131k 48k [en] medium, webm_dash\n",
            "\u001b[0;32m269\u001b[0m     mp4   256x144     30    \u001b[0;34m│\u001b[0m \u001b[0;90m~ 15.52MiB\u001b[0m  166k m3u8  \u001b[0;34m│\u001b[0m avc1.4D400C    166k \u001b[0;90mvideo only\u001b[0m\n",
            "\u001b[0;32m160\u001b[0m     mp4   256x144     30    \u001b[0;34m│\u001b[0m    7.65MiB   82k https \u001b[0;34m│\u001b[0m avc1.4d400c     82k \u001b[0;90mvideo only\u001b[0m          144p, mp4_dash\n",
            "\u001b[0;32m603\u001b[0m     mp4   256x144     30    \u001b[0;34m│\u001b[0m \u001b[0;90m~ 14.82MiB\u001b[0m  159k m3u8  \u001b[0;34m│\u001b[0m vp09.00.11.08  159k \u001b[0;90mvideo only\u001b[0m\n",
            "\u001b[0;32m278\u001b[0m     webm  256x144     30    \u001b[0;34m│\u001b[0m    8.80MiB   94k https \u001b[0;34m│\u001b[0m vp9             94k \u001b[0;90mvideo only\u001b[0m          144p, webm_dash\n",
            "\u001b[0;32m394\u001b[0m     mp4   256x144     30    \u001b[0;34m│\u001b[0m    6.61MiB   71k https \u001b[0;34m│\u001b[0m av01.0.00M.08   71k \u001b[0;90mvideo only\u001b[0m          144p, mp4_dash\n",
            "\u001b[0;32m229\u001b[0m     mp4   426x240     30    \u001b[0;34m│\u001b[0m \u001b[0;90m~ 35.25MiB\u001b[0m  377k m3u8  \u001b[0;34m│\u001b[0m avc1.4D4015    377k \u001b[0;90mvideo only\u001b[0m\n",
            "\u001b[0;32m133\u001b[0m     mp4   426x240     30    \u001b[0;34m│\u001b[0m   17.26MiB  185k https \u001b[0;34m│\u001b[0m avc1.4d4015    185k \u001b[0;90mvideo only\u001b[0m          240p, mp4_dash\n",
            "\u001b[0;32m604\u001b[0m     mp4   426x240     30    \u001b[0;34m│\u001b[0m \u001b[0;90m~ 27.17MiB\u001b[0m  291k m3u8  \u001b[0;34m│\u001b[0m vp09.00.20.08  291k \u001b[0;90mvideo only\u001b[0m\n",
            "\u001b[0;32m242\u001b[0m     webm  426x240     30    \u001b[0;34m│\u001b[0m   18.72MiB  200k https \u001b[0;34m│\u001b[0m vp9            200k \u001b[0;90mvideo only\u001b[0m          240p, webm_dash\n",
            "\u001b[0;32m395\u001b[0m     mp4   426x240     30    \u001b[0;34m│\u001b[0m   12.53MiB  134k https \u001b[0;34m│\u001b[0m av01.0.00M.08  134k \u001b[0;90mvideo only\u001b[0m          240p, mp4_dash\n",
            "\u001b[0;32m230\u001b[0m     mp4   640x360     30    \u001b[0;34m│\u001b[0m \u001b[0;90m~ 78.54MiB\u001b[0m  840k m3u8  \u001b[0;34m│\u001b[0m avc1.4D401E    840k \u001b[0;90mvideo only\u001b[0m\n",
            "\u001b[0;32m134\u001b[0m     mp4   640x360     30    \u001b[0;34m│\u001b[0m   34.95MiB  374k https \u001b[0;34m│\u001b[0m avc1.4d401e    374k \u001b[0;90mvideo only\u001b[0m          360p, mp4_dash\n",
            "\u001b[0;32m18\u001b[0m      mp4   640x360     30  2 \u001b[0;34m│\u001b[0m ≈ 47.01MiB  503k https \u001b[0;34m│\u001b[0m avc1.42001E         mp4a.40.2       44k [en] 360p\n",
            "\u001b[0;32m605\u001b[0m     mp4   640x360     30    \u001b[0;34m│\u001b[0m \u001b[0;90m~ 55.88MiB\u001b[0m  598k m3u8  \u001b[0;34m│\u001b[0m vp09.00.21.08  598k \u001b[0;90mvideo only\u001b[0m\n",
            "\u001b[0;32m243\u001b[0m     webm  640x360     30    \u001b[0;34m│\u001b[0m   34.28MiB  367k https \u001b[0;34m│\u001b[0m vp9            367k \u001b[0;90mvideo only\u001b[0m          360p, webm_dash\n",
            "\u001b[0;32m396\u001b[0m     mp4   640x360     30    \u001b[0;34m│\u001b[0m   26.73MiB  286k https \u001b[0;34m│\u001b[0m av01.0.01M.08  286k \u001b[0;90mvideo only\u001b[0m          360p, mp4_dash\n",
            "\u001b[0;32m231\u001b[0m     mp4   854x480     30    \u001b[0;34m│\u001b[0m \u001b[0;90m~114.73MiB\u001b[0m 1228k m3u8  \u001b[0;34m│\u001b[0m avc1.4D401F   1228k \u001b[0;90mvideo only\u001b[0m\n",
            "\u001b[0;32m135\u001b[0m     mp4   854x480     30    \u001b[0;34m│\u001b[0m   56.06MiB  600k https \u001b[0;34m│\u001b[0m avc1.4d401f    600k \u001b[0;90mvideo only\u001b[0m          480p, mp4_dash\n",
            "\u001b[0;32m606\u001b[0m     mp4   854x480     30    \u001b[0;34m│\u001b[0m \u001b[0;90m~ 88.37MiB\u001b[0m  945k m3u8  \u001b[0;34m│\u001b[0m vp09.00.30.08  945k \u001b[0;90mvideo only\u001b[0m\n",
            "\u001b[0;32m244\u001b[0m     webm  854x480     30    \u001b[0;34m│\u001b[0m   59.39MiB  635k https \u001b[0;34m│\u001b[0m vp9            635k \u001b[0;90mvideo only\u001b[0m          480p, webm_dash\n",
            "\u001b[0;32m397\u001b[0m     mp4   854x480     30    \u001b[0;34m│\u001b[0m   49.26MiB  527k https \u001b[0;34m│\u001b[0m av01.0.04M.08  527k \u001b[0;90mvideo only\u001b[0m          480p, mp4_dash\n",
            "\u001b[0;32m136\u001b[0m     mp4   1280x720    30    \u001b[0;34m│\u001b[0m  224.69MiB 2403k https \u001b[0;34m│\u001b[0m avc1.4d401f   2403k \u001b[0;90mvideo only\u001b[0m          720p, mp4_dash\n",
            "\u001b[0;32m247\u001b[0m     webm  1280x720    30    \u001b[0;34m│\u001b[0m  127.66MiB 1366k https \u001b[0;34m│\u001b[0m vp9           1366k \u001b[0;90mvideo only\u001b[0m          720p, webm_dash\n",
            "\u001b[0;32m311\u001b[0m     mp4   1280x720    60    \u001b[0;34m│\u001b[0m \u001b[0;90m~261.55MiB\u001b[0m 2798k m3u8  \u001b[0;34m│\u001b[0m avc1.4D4020   2798k \u001b[0;90mvideo only\u001b[0m\n",
            "\u001b[0;32m298\u001b[0m     mp4   1280x720    60    \u001b[0;34m│\u001b[0m  107.66MiB 1152k https \u001b[0;34m│\u001b[0m avc1.4d4020   1152k \u001b[0;90mvideo only\u001b[0m          720p60, mp4_dash\n",
            "\u001b[0;32m612\u001b[0m     mp4   1280x720    60    \u001b[0;34m│\u001b[0m \u001b[0;90m~274.34MiB\u001b[0m 2935k m3u8  \u001b[0;34m│\u001b[0m vp09.00.40.08 2935k \u001b[0;90mvideo only\u001b[0m\n",
            "\u001b[0;32m302\u001b[0m     webm  1280x720    60    \u001b[0;34m│\u001b[0m  181.02MiB 1936k https \u001b[0;34m│\u001b[0m vp9           1936k \u001b[0;90mvideo only\u001b[0m          720p60, webm_dash\n",
            "\u001b[0;32m398\u001b[0m     mp4   1280x720    60    \u001b[0;34m│\u001b[0m  176.44MiB 1887k https \u001b[0;34m│\u001b[0m av01.0.08M.08 1887k \u001b[0;90mvideo only\u001b[0m          720p60, mp4_dash\n",
            "\u001b[0;32m312\u001b[0m     mp4   1920x1080   60    \u001b[0;34m│\u001b[0m \u001b[0;90m~625.19MiB\u001b[0m 6689k m3u8  \u001b[0;34m│\u001b[0m avc1.64002A   6689k \u001b[0;90mvideo only\u001b[0m\n",
            "\u001b[0;32m299\u001b[0m     mp4   1920x1080   60    \u001b[0;34m│\u001b[0m  421.48MiB 4508k https \u001b[0;34m│\u001b[0m avc1.64002a   4508k \u001b[0;90mvideo only\u001b[0m          1080p60, mp4_dash\n",
            "\u001b[0;32m617\u001b[0m     mp4   1920x1080   60    \u001b[0;34m│\u001b[0m \u001b[0;90m~455.66MiB\u001b[0m 4876k m3u8  \u001b[0;34m│\u001b[0m vp09.00.41.08 4876k \u001b[0;90mvideo only\u001b[0m\n",
            "\u001b[0;32m303\u001b[0m     webm  1920x1080   60    \u001b[0;34m│\u001b[0m  383.89MiB 4106k https \u001b[0;34m│\u001b[0m vp9           4106k \u001b[0;90mvideo only\u001b[0m          1080p60, webm_dash\n",
            "\u001b[0;32m399\u001b[0m     mp4   1920x1080   60    \u001b[0;34m│\u001b[0m  339.24MiB 3629k https \u001b[0;34m│\u001b[0m av01.0.09M.08 3629k \u001b[0;90mvideo only\u001b[0m          1080p60, mp4_dash\n"
          ]
        }
      ]
    },
    {
      "cell_type": "markdown",
      "source": [
        "## testing"
      ],
      "metadata": {
        "id": "5VKwqc_GvriR"
      }
    },
    {
      "cell_type": "code",
      "source": [
        "# downloading low quality for test\n",
        "\n",
        "ydl_opts = {\n",
        "    'format': '394+140',  # 1080p video + good m4a audio\n",
        "    'outtmpl': 'test_video.mp4',\n",
        "    'merge_output_format': 'mp4'\n",
        "}\n",
        "with yt_dlp.YoutubeDL(ydl_opts) as ydl:\n",
        "    ydl.download([youtube_url])\n"
      ],
      "metadata": {
        "colab": {
          "base_uri": "https://localhost:8080/"
        },
        "id": "cf1HBN7ZwTIs",
        "outputId": "5b065cbc-61e7-473c-c59e-7c0ba439700e"
      },
      "execution_count": 51,
      "outputs": [
        {
          "output_type": "stream",
          "name": "stdout",
          "text": [
            "[youtube] Extracting URL: https://www.youtube.com/watch?v=cG4aYsvgchA\n",
            "[youtube] cG4aYsvgchA: Downloading webpage\n",
            "[youtube] cG4aYsvgchA: Downloading tv client config\n",
            "[youtube] cG4aYsvgchA: Downloading tv player API JSON\n",
            "[youtube] cG4aYsvgchA: Downloading ios player API JSON\n",
            "[youtube] cG4aYsvgchA: Downloading m3u8 information\n",
            "[info] cG4aYsvgchA: Downloading 1 format(s): 394+140\n",
            "[download] Destination: test_video.f394.mp4\n",
            "[download] 100% of    6.61MiB in 00:00:01 at 5.06MiB/s   \n",
            "[download] Destination: test_video.f140.m4a\n",
            "[download] 100% of   12.11MiB in 00:00:00 at 19.13MiB/s  \n",
            "[Merger] Merging formats into \"test_video.mp4\"\n",
            "Deleting original file test_video.f140.m4a (pass -k to keep)\n",
            "Deleting original file test_video.f394.mp4 (pass -k to keep)\n"
          ]
        }
      ]
    },
    {
      "cell_type": "code",
      "source": [
        "import subprocess\n",
        "\n",
        "# Replace audio using ffmpeg\n",
        "subprocess.call([\n",
        "    'ffmpeg', '-y',\n",
        "    '-i', 'test_video.mp4',\n",
        "    '-i', 'final_mixed_audio.wav',\n",
        "    '-c:v', 'copy',           # Copy video without re-encoding\n",
        "    '-map', '0:v:0',          # Use video from first input\n",
        "    '-map', '1:a:0',          # Use audio from second input\n",
        "    '-shortest',              # Trim to shorter of video or audio\n",
        "    'test_video_with_new_audio.mp4'\n",
        "])"
      ],
      "metadata": {
        "colab": {
          "base_uri": "https://localhost:8080/"
        },
        "id": "bTkfO33MvcS6",
        "outputId": "921bac71-24f6-4a1e-c025-f7ea52c5388a"
      },
      "execution_count": 52,
      "outputs": [
        {
          "output_type": "execute_result",
          "data": {
            "text/plain": [
              "0"
            ]
          },
          "metadata": {},
          "execution_count": 52
        }
      ]
    },
    {
      "cell_type": "markdown",
      "source": [
        "## mixing high quality video and dubbed audio"
      ],
      "metadata": {
        "id": "MDvBztL9vv_H"
      }
    },
    {
      "cell_type": "markdown",
      "source": [
        "\n",
        "for the highest quality\n",
        "\n",
        "```\n",
        "from yt_dlp import YoutubeDL\n",
        "\n",
        "youtube_url = \"https://www.youtube.com/watch?v=ISToBIkSNbM\"\n",
        "video_filename = \"original_video.mp4\"\n",
        "\n",
        "ydl_opts = {\n",
        "    'format': 'bestvideo[ext=mp4]+bestaudio[ext=m4a]/mp4',\n",
        "    'outtmpl': video_filename,\n",
        "    'merge_output_format': 'mp4'\n",
        "}\n",
        "\n",
        "with YoutubeDL(ydl_opts) as ydl:\n",
        "    ydl.download([youtube_url])\n",
        "```\n",
        "\n"
      ],
      "metadata": {
        "id": "_DKlXPKoEPAS"
      }
    },
    {
      "cell_type": "code",
      "source": [
        "ydl_opts = {\n",
        "    'format': '299+140',  # 1080p video + good m4a audio\n",
        "    'outtmpl': 'video_1080p.mp4',\n",
        "    'merge_output_format': 'mp4'\n",
        "}\n",
        "with yt_dlp.YoutubeDL(ydl_opts) as ydl:\n",
        "    ydl.download([youtube_url])\n"
      ],
      "metadata": {
        "colab": {
          "base_uri": "https://localhost:8080/"
        },
        "id": "OIYgFqowToYO",
        "outputId": "565e4c2a-8dea-47dc-e120-680c0dfd2730"
      },
      "execution_count": 57,
      "outputs": [
        {
          "output_type": "stream",
          "name": "stdout",
          "text": [
            "[youtube] Extracting URL: https://www.youtube.com/watch?v=cG4aYsvgchA\n",
            "[youtube] cG4aYsvgchA: Downloading webpage\n",
            "[youtube] cG4aYsvgchA: Downloading tv client config\n",
            "[youtube] cG4aYsvgchA: Downloading tv player API JSON\n",
            "[youtube] cG4aYsvgchA: Downloading ios player API JSON\n",
            "[youtube] cG4aYsvgchA: Downloading m3u8 information\n",
            "[info] cG4aYsvgchA: Downloading 1 format(s): 299+140\n",
            "[download] Destination: video_1080p.f299.mp4\n",
            "[download] 100% of  421.48MiB in 00:00:08 at 49.36MiB/s  \n",
            "[download] Destination: video_1080p.f140.m4a\n",
            "[download] 100% of   12.11MiB in 00:00:00 at 13.35MiB/s  \n",
            "[Merger] Merging formats into \"video_1080p.mp4\"\n",
            "Deleting original file video_1080p.f299.mp4 (pass -k to keep)\n",
            "Deleting original file video_1080p.f140.m4a (pass -k to keep)\n"
          ]
        }
      ]
    },
    {
      "cell_type": "code",
      "source": [
        "import subprocess\n",
        "\n",
        "# Replace audio using ffmpeg\n",
        "subprocess.call([\n",
        "    'ffmpeg', '-y',\n",
        "    '-i', 'video_1080p.mp4',\n",
        "    '-i', 'final_mixed_audio.wav',\n",
        "    '-c:v', 'copy',           # Copy video without re-encoding\n",
        "    '-map', '0:v:0',          # Use video from first input\n",
        "    '-map', '1:a:0',          # Use audio from second input\n",
        "    '-shortest',              # Trim to shorter of video or audio\n",
        "    'dubbed_video.mp4'\n",
        "])\n"
      ],
      "metadata": {
        "colab": {
          "base_uri": "https://localhost:8080/"
        },
        "id": "Anmc-zJqRsTl",
        "outputId": "519c0a07-cc8d-412b-abf2-bbb69e621739"
      },
      "execution_count": 58,
      "outputs": [
        {
          "output_type": "execute_result",
          "data": {
            "text/plain": [
              "0"
            ]
          },
          "metadata": {},
          "execution_count": 58
        }
      ]
    },
    {
      "cell_type": "markdown",
      "source": [
        "## upload result to google drive"
      ],
      "metadata": {
        "id": "AHgusTfhx6nC"
      }
    },
    {
      "cell_type": "code",
      "source": [
        "import shutil\n",
        "\n",
        "source_path = \"/content/dubbed_video.mp4\"\n",
        "destination_path = \"/content/drive/MyDrive/dub/dubbed_video.mp4\"\n",
        "shutil.copy(source_path, destination_path)\n",
        "\n",
        "\n",
        "\n",
        "print(\"✅ File copied from Google Drive.\")"
      ],
      "metadata": {
        "colab": {
          "base_uri": "https://localhost:8080/"
        },
        "id": "8OFdKR99x3TO",
        "outputId": "9bf161fd-3f20-4461-8c9f-0e2c8d9f6047"
      },
      "execution_count": 59,
      "outputs": [
        {
          "output_type": "stream",
          "name": "stdout",
          "text": [
            "✅ File copied from Google Drive.\n"
          ]
        }
      ]
    }
  ]
}